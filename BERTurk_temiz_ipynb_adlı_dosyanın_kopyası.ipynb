{
  "nbformat": 4,
  "nbformat_minor": 0,
  "metadata": {
    "accelerator": "GPU",
    "colab": {
      "name": "BERTurk-temiz.ipynb  adlı dosyanın kopyası",
      "provenance": [],
      "collapsed_sections": [],
      "authorship_tag": "ABX9TyM1Ix4wQlo12wbfanrr08Mv",
      "include_colab_link": true
    },
    "kernelspec": {
      "display_name": "Python 3",
      "name": "python3"
    },
    "language_info": {
      "name": "python"
    },
    "widgets": {
      "application/vnd.jupyter.widget-state+json": {
        "ba3a3d60fdc547aa9f0a943c0f87ad42": {
          "model_module": "@jupyter-widgets/controls",
          "model_name": "HBoxModel",
          "state": {
            "_view_name": "HBoxView",
            "_dom_classes": [],
            "_model_name": "HBoxModel",
            "_view_module": "@jupyter-widgets/controls",
            "_model_module_version": "1.5.0",
            "_view_count": null,
            "_view_module_version": "1.5.0",
            "box_style": "",
            "layout": "IPY_MODEL_ea9b5546e251479dab1b951ab5db9b6a",
            "_model_module": "@jupyter-widgets/controls",
            "children": [
              "IPY_MODEL_f149af6005a1400bb2650aab89c04d38",
              "IPY_MODEL_60ee42206e6f4f829ad8fe877fb735e1"
            ]
          }
        },
        "ea9b5546e251479dab1b951ab5db9b6a": {
          "model_module": "@jupyter-widgets/base",
          "model_name": "LayoutModel",
          "state": {
            "_view_name": "LayoutView",
            "grid_template_rows": null,
            "right": null,
            "justify_content": null,
            "_view_module": "@jupyter-widgets/base",
            "overflow": null,
            "_model_module_version": "1.2.0",
            "_view_count": null,
            "flex_flow": null,
            "width": null,
            "min_width": null,
            "border": null,
            "align_items": null,
            "bottom": null,
            "_model_module": "@jupyter-widgets/base",
            "top": null,
            "grid_column": null,
            "overflow_y": null,
            "overflow_x": null,
            "grid_auto_flow": null,
            "grid_area": null,
            "grid_template_columns": null,
            "flex": null,
            "_model_name": "LayoutModel",
            "justify_items": null,
            "grid_row": null,
            "max_height": null,
            "align_content": null,
            "visibility": null,
            "align_self": null,
            "height": null,
            "min_height": null,
            "padding": null,
            "grid_auto_rows": null,
            "grid_gap": null,
            "max_width": null,
            "order": null,
            "_view_module_version": "1.2.0",
            "grid_template_areas": null,
            "object_position": null,
            "object_fit": null,
            "grid_auto_columns": null,
            "margin": null,
            "display": null,
            "left": null
          }
        },
        "f149af6005a1400bb2650aab89c04d38": {
          "model_module": "@jupyter-widgets/controls",
          "model_name": "FloatProgressModel",
          "state": {
            "_view_name": "ProgressView",
            "style": "IPY_MODEL_7679b01b04074af5a90ab913660ae199",
            "_dom_classes": [],
            "description": "Downloading: 100%",
            "_model_name": "FloatProgressModel",
            "bar_style": "success",
            "max": 385,
            "_view_module": "@jupyter-widgets/controls",
            "_model_module_version": "1.5.0",
            "value": 385,
            "_view_count": null,
            "_view_module_version": "1.5.0",
            "orientation": "horizontal",
            "min": 0,
            "description_tooltip": null,
            "_model_module": "@jupyter-widgets/controls",
            "layout": "IPY_MODEL_19bd40b82dd146e7985e8ae0ea13d678"
          }
        },
        "60ee42206e6f4f829ad8fe877fb735e1": {
          "model_module": "@jupyter-widgets/controls",
          "model_name": "HTMLModel",
          "state": {
            "_view_name": "HTMLView",
            "style": "IPY_MODEL_fe601e03134c44e5a537a8738229ae52",
            "_dom_classes": [],
            "description": "",
            "_model_name": "HTMLModel",
            "placeholder": "​",
            "_view_module": "@jupyter-widgets/controls",
            "_model_module_version": "1.5.0",
            "value": " 385/385 [00:00&lt;00:00, 661B/s]",
            "_view_count": null,
            "_view_module_version": "1.5.0",
            "description_tooltip": null,
            "_model_module": "@jupyter-widgets/controls",
            "layout": "IPY_MODEL_8ae3a5c2153e4a60a5a21da8749685df"
          }
        },
        "7679b01b04074af5a90ab913660ae199": {
          "model_module": "@jupyter-widgets/controls",
          "model_name": "ProgressStyleModel",
          "state": {
            "_view_name": "StyleView",
            "_model_name": "ProgressStyleModel",
            "description_width": "initial",
            "_view_module": "@jupyter-widgets/base",
            "_model_module_version": "1.5.0",
            "_view_count": null,
            "_view_module_version": "1.2.0",
            "bar_color": null,
            "_model_module": "@jupyter-widgets/controls"
          }
        },
        "19bd40b82dd146e7985e8ae0ea13d678": {
          "model_module": "@jupyter-widgets/base",
          "model_name": "LayoutModel",
          "state": {
            "_view_name": "LayoutView",
            "grid_template_rows": null,
            "right": null,
            "justify_content": null,
            "_view_module": "@jupyter-widgets/base",
            "overflow": null,
            "_model_module_version": "1.2.0",
            "_view_count": null,
            "flex_flow": null,
            "width": null,
            "min_width": null,
            "border": null,
            "align_items": null,
            "bottom": null,
            "_model_module": "@jupyter-widgets/base",
            "top": null,
            "grid_column": null,
            "overflow_y": null,
            "overflow_x": null,
            "grid_auto_flow": null,
            "grid_area": null,
            "grid_template_columns": null,
            "flex": null,
            "_model_name": "LayoutModel",
            "justify_items": null,
            "grid_row": null,
            "max_height": null,
            "align_content": null,
            "visibility": null,
            "align_self": null,
            "height": null,
            "min_height": null,
            "padding": null,
            "grid_auto_rows": null,
            "grid_gap": null,
            "max_width": null,
            "order": null,
            "_view_module_version": "1.2.0",
            "grid_template_areas": null,
            "object_position": null,
            "object_fit": null,
            "grid_auto_columns": null,
            "margin": null,
            "display": null,
            "left": null
          }
        },
        "fe601e03134c44e5a537a8738229ae52": {
          "model_module": "@jupyter-widgets/controls",
          "model_name": "DescriptionStyleModel",
          "state": {
            "_view_name": "StyleView",
            "_model_name": "DescriptionStyleModel",
            "description_width": "",
            "_view_module": "@jupyter-widgets/base",
            "_model_module_version": "1.5.0",
            "_view_count": null,
            "_view_module_version": "1.2.0",
            "_model_module": "@jupyter-widgets/controls"
          }
        },
        "8ae3a5c2153e4a60a5a21da8749685df": {
          "model_module": "@jupyter-widgets/base",
          "model_name": "LayoutModel",
          "state": {
            "_view_name": "LayoutView",
            "grid_template_rows": null,
            "right": null,
            "justify_content": null,
            "_view_module": "@jupyter-widgets/base",
            "overflow": null,
            "_model_module_version": "1.2.0",
            "_view_count": null,
            "flex_flow": null,
            "width": null,
            "min_width": null,
            "border": null,
            "align_items": null,
            "bottom": null,
            "_model_module": "@jupyter-widgets/base",
            "top": null,
            "grid_column": null,
            "overflow_y": null,
            "overflow_x": null,
            "grid_auto_flow": null,
            "grid_area": null,
            "grid_template_columns": null,
            "flex": null,
            "_model_name": "LayoutModel",
            "justify_items": null,
            "grid_row": null,
            "max_height": null,
            "align_content": null,
            "visibility": null,
            "align_self": null,
            "height": null,
            "min_height": null,
            "padding": null,
            "grid_auto_rows": null,
            "grid_gap": null,
            "max_width": null,
            "order": null,
            "_view_module_version": "1.2.0",
            "grid_template_areas": null,
            "object_position": null,
            "object_fit": null,
            "grid_auto_columns": null,
            "margin": null,
            "display": null,
            "left": null
          }
        },
        "0f7186d9ca8346bba8114063afba91c0": {
          "model_module": "@jupyter-widgets/controls",
          "model_name": "HBoxModel",
          "state": {
            "_view_name": "HBoxView",
            "_dom_classes": [],
            "_model_name": "HBoxModel",
            "_view_module": "@jupyter-widgets/controls",
            "_model_module_version": "1.5.0",
            "_view_count": null,
            "_view_module_version": "1.5.0",
            "box_style": "",
            "layout": "IPY_MODEL_65fbd76fed35450daa1dbf40b5ea5428",
            "_model_module": "@jupyter-widgets/controls",
            "children": [
              "IPY_MODEL_9b47ab745c5740f3adca2c20af95e1d1",
              "IPY_MODEL_12e220943b12409f88d44f333c7b9440"
            ]
          }
        },
        "65fbd76fed35450daa1dbf40b5ea5428": {
          "model_module": "@jupyter-widgets/base",
          "model_name": "LayoutModel",
          "state": {
            "_view_name": "LayoutView",
            "grid_template_rows": null,
            "right": null,
            "justify_content": null,
            "_view_module": "@jupyter-widgets/base",
            "overflow": null,
            "_model_module_version": "1.2.0",
            "_view_count": null,
            "flex_flow": null,
            "width": null,
            "min_width": null,
            "border": null,
            "align_items": null,
            "bottom": null,
            "_model_module": "@jupyter-widgets/base",
            "top": null,
            "grid_column": null,
            "overflow_y": null,
            "overflow_x": null,
            "grid_auto_flow": null,
            "grid_area": null,
            "grid_template_columns": null,
            "flex": null,
            "_model_name": "LayoutModel",
            "justify_items": null,
            "grid_row": null,
            "max_height": null,
            "align_content": null,
            "visibility": null,
            "align_self": null,
            "height": null,
            "min_height": null,
            "padding": null,
            "grid_auto_rows": null,
            "grid_gap": null,
            "max_width": null,
            "order": null,
            "_view_module_version": "1.2.0",
            "grid_template_areas": null,
            "object_position": null,
            "object_fit": null,
            "grid_auto_columns": null,
            "margin": null,
            "display": null,
            "left": null
          }
        },
        "9b47ab745c5740f3adca2c20af95e1d1": {
          "model_module": "@jupyter-widgets/controls",
          "model_name": "FloatProgressModel",
          "state": {
            "_view_name": "ProgressView",
            "style": "IPY_MODEL_f8ce13c80dca463984af1ea35d98cf6e",
            "_dom_classes": [],
            "description": "Downloading: 100%",
            "_model_name": "FloatProgressModel",
            "bar_style": "success",
            "max": 251003,
            "_view_module": "@jupyter-widgets/controls",
            "_model_module_version": "1.5.0",
            "value": 251003,
            "_view_count": null,
            "_view_module_version": "1.5.0",
            "orientation": "horizontal",
            "min": 0,
            "description_tooltip": null,
            "_model_module": "@jupyter-widgets/controls",
            "layout": "IPY_MODEL_be60916d895a45769df3da983794e0f3"
          }
        },
        "12e220943b12409f88d44f333c7b9440": {
          "model_module": "@jupyter-widgets/controls",
          "model_name": "HTMLModel",
          "state": {
            "_view_name": "HTMLView",
            "style": "IPY_MODEL_f944c2f946f94b4dbbc30d1769aa49d3",
            "_dom_classes": [],
            "description": "",
            "_model_name": "HTMLModel",
            "placeholder": "​",
            "_view_module": "@jupyter-widgets/controls",
            "_model_module_version": "1.5.0",
            "value": " 251k/251k [00:00&lt;00:00, 755kB/s]",
            "_view_count": null,
            "_view_module_version": "1.5.0",
            "description_tooltip": null,
            "_model_module": "@jupyter-widgets/controls",
            "layout": "IPY_MODEL_821758f9e0d648efbef95623cec3d210"
          }
        },
        "f8ce13c80dca463984af1ea35d98cf6e": {
          "model_module": "@jupyter-widgets/controls",
          "model_name": "ProgressStyleModel",
          "state": {
            "_view_name": "StyleView",
            "_model_name": "ProgressStyleModel",
            "description_width": "initial",
            "_view_module": "@jupyter-widgets/base",
            "_model_module_version": "1.5.0",
            "_view_count": null,
            "_view_module_version": "1.2.0",
            "bar_color": null,
            "_model_module": "@jupyter-widgets/controls"
          }
        },
        "be60916d895a45769df3da983794e0f3": {
          "model_module": "@jupyter-widgets/base",
          "model_name": "LayoutModel",
          "state": {
            "_view_name": "LayoutView",
            "grid_template_rows": null,
            "right": null,
            "justify_content": null,
            "_view_module": "@jupyter-widgets/base",
            "overflow": null,
            "_model_module_version": "1.2.0",
            "_view_count": null,
            "flex_flow": null,
            "width": null,
            "min_width": null,
            "border": null,
            "align_items": null,
            "bottom": null,
            "_model_module": "@jupyter-widgets/base",
            "top": null,
            "grid_column": null,
            "overflow_y": null,
            "overflow_x": null,
            "grid_auto_flow": null,
            "grid_area": null,
            "grid_template_columns": null,
            "flex": null,
            "_model_name": "LayoutModel",
            "justify_items": null,
            "grid_row": null,
            "max_height": null,
            "align_content": null,
            "visibility": null,
            "align_self": null,
            "height": null,
            "min_height": null,
            "padding": null,
            "grid_auto_rows": null,
            "grid_gap": null,
            "max_width": null,
            "order": null,
            "_view_module_version": "1.2.0",
            "grid_template_areas": null,
            "object_position": null,
            "object_fit": null,
            "grid_auto_columns": null,
            "margin": null,
            "display": null,
            "left": null
          }
        },
        "f944c2f946f94b4dbbc30d1769aa49d3": {
          "model_module": "@jupyter-widgets/controls",
          "model_name": "DescriptionStyleModel",
          "state": {
            "_view_name": "StyleView",
            "_model_name": "DescriptionStyleModel",
            "description_width": "",
            "_view_module": "@jupyter-widgets/base",
            "_model_module_version": "1.5.0",
            "_view_count": null,
            "_view_module_version": "1.2.0",
            "_model_module": "@jupyter-widgets/controls"
          }
        },
        "821758f9e0d648efbef95623cec3d210": {
          "model_module": "@jupyter-widgets/base",
          "model_name": "LayoutModel",
          "state": {
            "_view_name": "LayoutView",
            "grid_template_rows": null,
            "right": null,
            "justify_content": null,
            "_view_module": "@jupyter-widgets/base",
            "overflow": null,
            "_model_module_version": "1.2.0",
            "_view_count": null,
            "flex_flow": null,
            "width": null,
            "min_width": null,
            "border": null,
            "align_items": null,
            "bottom": null,
            "_model_module": "@jupyter-widgets/base",
            "top": null,
            "grid_column": null,
            "overflow_y": null,
            "overflow_x": null,
            "grid_auto_flow": null,
            "grid_area": null,
            "grid_template_columns": null,
            "flex": null,
            "_model_name": "LayoutModel",
            "justify_items": null,
            "grid_row": null,
            "max_height": null,
            "align_content": null,
            "visibility": null,
            "align_self": null,
            "height": null,
            "min_height": null,
            "padding": null,
            "grid_auto_rows": null,
            "grid_gap": null,
            "max_width": null,
            "order": null,
            "_view_module_version": "1.2.0",
            "grid_template_areas": null,
            "object_position": null,
            "object_fit": null,
            "grid_auto_columns": null,
            "margin": null,
            "display": null,
            "left": null
          }
        },
        "28e4f96977d8427a8820758f9c825dc6": {
          "model_module": "@jupyter-widgets/controls",
          "model_name": "HBoxModel",
          "state": {
            "_view_name": "HBoxView",
            "_dom_classes": [],
            "_model_name": "HBoxModel",
            "_view_module": "@jupyter-widgets/controls",
            "_model_module_version": "1.5.0",
            "_view_count": null,
            "_view_module_version": "1.5.0",
            "box_style": "",
            "layout": "IPY_MODEL_593f3d1d1e7b4be78b7d91bfd594a5d9",
            "_model_module": "@jupyter-widgets/controls",
            "children": [
              "IPY_MODEL_3dc9c90acf114d0a9491e7d03268cd20",
              "IPY_MODEL_5bb4f472b94d4360b3fc0f0c983cc492"
            ]
          }
        },
        "593f3d1d1e7b4be78b7d91bfd594a5d9": {
          "model_module": "@jupyter-widgets/base",
          "model_name": "LayoutModel",
          "state": {
            "_view_name": "LayoutView",
            "grid_template_rows": null,
            "right": null,
            "justify_content": null,
            "_view_module": "@jupyter-widgets/base",
            "overflow": null,
            "_model_module_version": "1.2.0",
            "_view_count": null,
            "flex_flow": null,
            "width": null,
            "min_width": null,
            "border": null,
            "align_items": null,
            "bottom": null,
            "_model_module": "@jupyter-widgets/base",
            "top": null,
            "grid_column": null,
            "overflow_y": null,
            "overflow_x": null,
            "grid_auto_flow": null,
            "grid_area": null,
            "grid_template_columns": null,
            "flex": null,
            "_model_name": "LayoutModel",
            "justify_items": null,
            "grid_row": null,
            "max_height": null,
            "align_content": null,
            "visibility": null,
            "align_self": null,
            "height": null,
            "min_height": null,
            "padding": null,
            "grid_auto_rows": null,
            "grid_gap": null,
            "max_width": null,
            "order": null,
            "_view_module_version": "1.2.0",
            "grid_template_areas": null,
            "object_position": null,
            "object_fit": null,
            "grid_auto_columns": null,
            "margin": null,
            "display": null,
            "left": null
          }
        },
        "3dc9c90acf114d0a9491e7d03268cd20": {
          "model_module": "@jupyter-widgets/controls",
          "model_name": "FloatProgressModel",
          "state": {
            "_view_name": "ProgressView",
            "style": "IPY_MODEL_9d81dd36fa7d4bdb9ec9e75475f3d6fe",
            "_dom_classes": [],
            "description": "Downloading: 100%",
            "_model_name": "FloatProgressModel",
            "bar_style": "success",
            "max": 60,
            "_view_module": "@jupyter-widgets/controls",
            "_model_module_version": "1.5.0",
            "value": 60,
            "_view_count": null,
            "_view_module_version": "1.5.0",
            "orientation": "horizontal",
            "min": 0,
            "description_tooltip": null,
            "_model_module": "@jupyter-widgets/controls",
            "layout": "IPY_MODEL_5dc615a07bcd44b1b5ef566974819c99"
          }
        },
        "5bb4f472b94d4360b3fc0f0c983cc492": {
          "model_module": "@jupyter-widgets/controls",
          "model_name": "HTMLModel",
          "state": {
            "_view_name": "HTMLView",
            "style": "IPY_MODEL_64e31ba148f04b7ba0a10c350aee2993",
            "_dom_classes": [],
            "description": "",
            "_model_name": "HTMLModel",
            "placeholder": "​",
            "_view_module": "@jupyter-widgets/controls",
            "_model_module_version": "1.5.0",
            "value": " 60.0/60.0 [00:00&lt;00:00, 668B/s]",
            "_view_count": null,
            "_view_module_version": "1.5.0",
            "description_tooltip": null,
            "_model_module": "@jupyter-widgets/controls",
            "layout": "IPY_MODEL_2b6717b79544403db98b8b5328929416"
          }
        },
        "9d81dd36fa7d4bdb9ec9e75475f3d6fe": {
          "model_module": "@jupyter-widgets/controls",
          "model_name": "ProgressStyleModel",
          "state": {
            "_view_name": "StyleView",
            "_model_name": "ProgressStyleModel",
            "description_width": "initial",
            "_view_module": "@jupyter-widgets/base",
            "_model_module_version": "1.5.0",
            "_view_count": null,
            "_view_module_version": "1.2.0",
            "bar_color": null,
            "_model_module": "@jupyter-widgets/controls"
          }
        },
        "5dc615a07bcd44b1b5ef566974819c99": {
          "model_module": "@jupyter-widgets/base",
          "model_name": "LayoutModel",
          "state": {
            "_view_name": "LayoutView",
            "grid_template_rows": null,
            "right": null,
            "justify_content": null,
            "_view_module": "@jupyter-widgets/base",
            "overflow": null,
            "_model_module_version": "1.2.0",
            "_view_count": null,
            "flex_flow": null,
            "width": null,
            "min_width": null,
            "border": null,
            "align_items": null,
            "bottom": null,
            "_model_module": "@jupyter-widgets/base",
            "top": null,
            "grid_column": null,
            "overflow_y": null,
            "overflow_x": null,
            "grid_auto_flow": null,
            "grid_area": null,
            "grid_template_columns": null,
            "flex": null,
            "_model_name": "LayoutModel",
            "justify_items": null,
            "grid_row": null,
            "max_height": null,
            "align_content": null,
            "visibility": null,
            "align_self": null,
            "height": null,
            "min_height": null,
            "padding": null,
            "grid_auto_rows": null,
            "grid_gap": null,
            "max_width": null,
            "order": null,
            "_view_module_version": "1.2.0",
            "grid_template_areas": null,
            "object_position": null,
            "object_fit": null,
            "grid_auto_columns": null,
            "margin": null,
            "display": null,
            "left": null
          }
        },
        "64e31ba148f04b7ba0a10c350aee2993": {
          "model_module": "@jupyter-widgets/controls",
          "model_name": "DescriptionStyleModel",
          "state": {
            "_view_name": "StyleView",
            "_model_name": "DescriptionStyleModel",
            "description_width": "",
            "_view_module": "@jupyter-widgets/base",
            "_model_module_version": "1.5.0",
            "_view_count": null,
            "_view_module_version": "1.2.0",
            "_model_module": "@jupyter-widgets/controls"
          }
        },
        "2b6717b79544403db98b8b5328929416": {
          "model_module": "@jupyter-widgets/base",
          "model_name": "LayoutModel",
          "state": {
            "_view_name": "LayoutView",
            "grid_template_rows": null,
            "right": null,
            "justify_content": null,
            "_view_module": "@jupyter-widgets/base",
            "overflow": null,
            "_model_module_version": "1.2.0",
            "_view_count": null,
            "flex_flow": null,
            "width": null,
            "min_width": null,
            "border": null,
            "align_items": null,
            "bottom": null,
            "_model_module": "@jupyter-widgets/base",
            "top": null,
            "grid_column": null,
            "overflow_y": null,
            "overflow_x": null,
            "grid_auto_flow": null,
            "grid_area": null,
            "grid_template_columns": null,
            "flex": null,
            "_model_name": "LayoutModel",
            "justify_items": null,
            "grid_row": null,
            "max_height": null,
            "align_content": null,
            "visibility": null,
            "align_self": null,
            "height": null,
            "min_height": null,
            "padding": null,
            "grid_auto_rows": null,
            "grid_gap": null,
            "max_width": null,
            "order": null,
            "_view_module_version": "1.2.0",
            "grid_template_areas": null,
            "object_position": null,
            "object_fit": null,
            "grid_auto_columns": null,
            "margin": null,
            "display": null,
            "left": null
          }
        },
        "11b91bb9f0cd491289a84a44e3f310bf": {
          "model_module": "@jupyter-widgets/controls",
          "model_name": "HBoxModel",
          "state": {
            "_view_name": "HBoxView",
            "_dom_classes": [],
            "_model_name": "HBoxModel",
            "_view_module": "@jupyter-widgets/controls",
            "_model_module_version": "1.5.0",
            "_view_count": null,
            "_view_module_version": "1.5.0",
            "box_style": "",
            "layout": "IPY_MODEL_9233e236516c49b28b518465883a2ff5",
            "_model_module": "@jupyter-widgets/controls",
            "children": [
              "IPY_MODEL_bbff02675563485dbaff1faae8d08ea8",
              "IPY_MODEL_6611f72ccc924b108571f49b388e583f"
            ]
          }
        },
        "9233e236516c49b28b518465883a2ff5": {
          "model_module": "@jupyter-widgets/base",
          "model_name": "LayoutModel",
          "state": {
            "_view_name": "LayoutView",
            "grid_template_rows": null,
            "right": null,
            "justify_content": null,
            "_view_module": "@jupyter-widgets/base",
            "overflow": null,
            "_model_module_version": "1.2.0",
            "_view_count": null,
            "flex_flow": null,
            "width": null,
            "min_width": null,
            "border": null,
            "align_items": null,
            "bottom": null,
            "_model_module": "@jupyter-widgets/base",
            "top": null,
            "grid_column": null,
            "overflow_y": null,
            "overflow_x": null,
            "grid_auto_flow": null,
            "grid_area": null,
            "grid_template_columns": null,
            "flex": null,
            "_model_name": "LayoutModel",
            "justify_items": null,
            "grid_row": null,
            "max_height": null,
            "align_content": null,
            "visibility": null,
            "align_self": null,
            "height": null,
            "min_height": null,
            "padding": null,
            "grid_auto_rows": null,
            "grid_gap": null,
            "max_width": null,
            "order": null,
            "_view_module_version": "1.2.0",
            "grid_template_areas": null,
            "object_position": null,
            "object_fit": null,
            "grid_auto_columns": null,
            "margin": null,
            "display": null,
            "left": null
          }
        },
        "bbff02675563485dbaff1faae8d08ea8": {
          "model_module": "@jupyter-widgets/controls",
          "model_name": "FloatProgressModel",
          "state": {
            "_view_name": "ProgressView",
            "style": "IPY_MODEL_5cd50eaf84ae423ab428a27906438c9a",
            "_dom_classes": [],
            "description": "Downloading: 100%",
            "_model_name": "FloatProgressModel",
            "bar_style": "success",
            "max": 445018508,
            "_view_module": "@jupyter-widgets/controls",
            "_model_module_version": "1.5.0",
            "value": 445018508,
            "_view_count": null,
            "_view_module_version": "1.5.0",
            "orientation": "horizontal",
            "min": 0,
            "description_tooltip": null,
            "_model_module": "@jupyter-widgets/controls",
            "layout": "IPY_MODEL_b19985f4273842e79df80020b4e6aaca"
          }
        },
        "6611f72ccc924b108571f49b388e583f": {
          "model_module": "@jupyter-widgets/controls",
          "model_name": "HTMLModel",
          "state": {
            "_view_name": "HTMLView",
            "style": "IPY_MODEL_06d1e27896fa457a94306b1f05d27e0a",
            "_dom_classes": [],
            "description": "",
            "_model_name": "HTMLModel",
            "placeholder": "​",
            "_view_module": "@jupyter-widgets/controls",
            "_model_module_version": "1.5.0",
            "value": " 445M/445M [00:12&lt;00:00, 34.6MB/s]",
            "_view_count": null,
            "_view_module_version": "1.5.0",
            "description_tooltip": null,
            "_model_module": "@jupyter-widgets/controls",
            "layout": "IPY_MODEL_a3be2aabae1f464f8911da69c0c406ee"
          }
        },
        "5cd50eaf84ae423ab428a27906438c9a": {
          "model_module": "@jupyter-widgets/controls",
          "model_name": "ProgressStyleModel",
          "state": {
            "_view_name": "StyleView",
            "_model_name": "ProgressStyleModel",
            "description_width": "initial",
            "_view_module": "@jupyter-widgets/base",
            "_model_module_version": "1.5.0",
            "_view_count": null,
            "_view_module_version": "1.2.0",
            "bar_color": null,
            "_model_module": "@jupyter-widgets/controls"
          }
        },
        "b19985f4273842e79df80020b4e6aaca": {
          "model_module": "@jupyter-widgets/base",
          "model_name": "LayoutModel",
          "state": {
            "_view_name": "LayoutView",
            "grid_template_rows": null,
            "right": null,
            "justify_content": null,
            "_view_module": "@jupyter-widgets/base",
            "overflow": null,
            "_model_module_version": "1.2.0",
            "_view_count": null,
            "flex_flow": null,
            "width": null,
            "min_width": null,
            "border": null,
            "align_items": null,
            "bottom": null,
            "_model_module": "@jupyter-widgets/base",
            "top": null,
            "grid_column": null,
            "overflow_y": null,
            "overflow_x": null,
            "grid_auto_flow": null,
            "grid_area": null,
            "grid_template_columns": null,
            "flex": null,
            "_model_name": "LayoutModel",
            "justify_items": null,
            "grid_row": null,
            "max_height": null,
            "align_content": null,
            "visibility": null,
            "align_self": null,
            "height": null,
            "min_height": null,
            "padding": null,
            "grid_auto_rows": null,
            "grid_gap": null,
            "max_width": null,
            "order": null,
            "_view_module_version": "1.2.0",
            "grid_template_areas": null,
            "object_position": null,
            "object_fit": null,
            "grid_auto_columns": null,
            "margin": null,
            "display": null,
            "left": null
          }
        },
        "06d1e27896fa457a94306b1f05d27e0a": {
          "model_module": "@jupyter-widgets/controls",
          "model_name": "DescriptionStyleModel",
          "state": {
            "_view_name": "StyleView",
            "_model_name": "DescriptionStyleModel",
            "description_width": "",
            "_view_module": "@jupyter-widgets/base",
            "_model_module_version": "1.5.0",
            "_view_count": null,
            "_view_module_version": "1.2.0",
            "_model_module": "@jupyter-widgets/controls"
          }
        },
        "a3be2aabae1f464f8911da69c0c406ee": {
          "model_module": "@jupyter-widgets/base",
          "model_name": "LayoutModel",
          "state": {
            "_view_name": "LayoutView",
            "grid_template_rows": null,
            "right": null,
            "justify_content": null,
            "_view_module": "@jupyter-widgets/base",
            "overflow": null,
            "_model_module_version": "1.2.0",
            "_view_count": null,
            "flex_flow": null,
            "width": null,
            "min_width": null,
            "border": null,
            "align_items": null,
            "bottom": null,
            "_model_module": "@jupyter-widgets/base",
            "top": null,
            "grid_column": null,
            "overflow_y": null,
            "overflow_x": null,
            "grid_auto_flow": null,
            "grid_area": null,
            "grid_template_columns": null,
            "flex": null,
            "_model_name": "LayoutModel",
            "justify_items": null,
            "grid_row": null,
            "max_height": null,
            "align_content": null,
            "visibility": null,
            "align_self": null,
            "height": null,
            "min_height": null,
            "padding": null,
            "grid_auto_rows": null,
            "grid_gap": null,
            "max_width": null,
            "order": null,
            "_view_module_version": "1.2.0",
            "grid_template_areas": null,
            "object_position": null,
            "object_fit": null,
            "grid_auto_columns": null,
            "margin": null,
            "display": null,
            "left": null
          }
        }
      }
    }
  },
  "cells": [
    {
      "cell_type": "markdown",
      "metadata": {
        "id": "view-in-github",
        "colab_type": "text"
      },
      "source": [
        "<a href=\"https://colab.research.google.com/github/BuseOzkanat/BERTileSentimentAnaliz/blob/master/BERTurk_temiz_ipynb_adl%C4%B1_dosyan%C4%B1n_kopyas%C4%B1.ipynb\" target=\"_parent\"><img src=\"https://colab.research.google.com/assets/colab-badge.svg\" alt=\"Open In Colab\"/></a>"
      ]
    },
    {
      "cell_type": "code",
      "metadata": {
        "colab": {
          "base_uri": "https://localhost:8080/"
        },
        "id": "mHirD5bGrfAQ",
        "outputId": "91f13336-bdbe-44ad-d8cc-0db84bb44c24"
      },
      "source": [
        "  from google.colab import drive\n",
        "drive.mount('/gdrive')"
      ],
      "execution_count": null,
      "outputs": [
        {
          "output_type": "stream",
          "text": [
            "Mounted at /gdrive\n"
          ],
          "name": "stdout"
        }
      ]
    },
    {
      "cell_type": "code",
      "metadata": {
        "colab": {
          "base_uri": "https://localhost:8080/"
        },
        "id": "JtLklt1Zsf_A",
        "outputId": "75fb363e-1ad7-4b50-8ce8-5d9ed14c8349"
      },
      "source": [
        "!ls \"/gdrive/My Drive/SDP-buse/\""
      ],
      "execution_count": null,
      "outputs": [
        {
          "output_type": "stream",
          "text": [
            "'BERTurk-accuracy2.ipynb '\t\t    codes\t     SDP-buse.ipynb\n",
            " BERTurk-accuracy.ipynb\t\t\t    Data\t     shuffle.csv\n",
            " Berturk.ipynb\t\t\t\t    deneme.ipynb     shuffled.csv\n",
            "'Berturk.ipynb adlı dosyanın kopyası'\t   'kopya Berturk'   turkishBERT.ipynb\n",
            "'Berturk.ipynb adlı dosyanın kopyası (1)'   newfile.csv\n"
          ],
          "name": "stdout"
        }
      ]
    },
    {
      "cell_type": "code",
      "metadata": {
        "id": "rsLO93yCsnl6"
      },
      "source": [
        "import os\n",
        "os.chdir(\"/gdrive/My Drive/SDP-buse/\")"
      ],
      "execution_count": null,
      "outputs": []
    },
    {
      "cell_type": "code",
      "metadata": {
        "colab": {
          "base_uri": "https://localhost:8080/"
        },
        "id": "3iRFwHnZsqNm",
        "outputId": "7a41ef80-8d1b-4231-fdfa-45217664ac76"
      },
      "source": [
        "!pip install trnlp\n",
        "import numpy as np\n",
        "import pandas as pd \n",
        "import numpy as np\n",
        "import nltk\n",
        "import csv\n",
        "from nltk.corpus import stopwords\n",
        "from trnlp import TrnlpWord"
      ],
      "execution_count": null,
      "outputs": [
        {
          "output_type": "stream",
          "text": [
            "Collecting trnlp\n",
            "\u001b[?25l  Downloading https://files.pythonhosted.org/packages/81/05/ec3821b7e89be7288308a528be127ddc238a3801f30cb538e6c32fb14f63/trnlp-0.2.3a0.tar.gz (10.1MB)\n",
            "\u001b[K     |████████████████████████████████| 10.1MB 8.7MB/s \n",
            "\u001b[?25hBuilding wheels for collected packages: trnlp\n",
            "  Building wheel for trnlp (setup.py) ... \u001b[?25l\u001b[?25hdone\n",
            "  Created wheel for trnlp: filename=trnlp-0.2.3a0-cp37-none-any.whl size=10168268 sha256=6d8ed38ad941d928fd3a857b7a6a8d61fa346ceacff50e3a0d0beab66b081b73\n",
            "  Stored in directory: /root/.cache/pip/wheels/14/ef/af/28ddb21e63f6aaaf7de11f8e93aaaabfb2b809233101040baa\n",
            "Successfully built trnlp\n",
            "Installing collected packages: trnlp\n",
            "Successfully installed trnlp-0.2.3a0\n"
          ],
          "name": "stdout"
        }
      ]
    },
    {
      "cell_type": "code",
      "metadata": {
        "colab": {
          "base_uri": "https://localhost:8080/"
        },
        "id": "8AGOHzJW4f6A",
        "outputId": "b9b2f035-fb22-4e19-c3c9-632e19f433e8"
      },
      "source": [
        "import torch\n",
        "if torch.cuda.is_available():  \n",
        "    device = torch.device(\"cuda\")\n",
        "    print('We will use the GPU:', torch.cuda.get_device_name(0))\n",
        "    \n",
        "else:\n",
        "    print('No GPU available, using the CPU instead.')\n",
        "    device = torch.device(\"cpu\")"
      ],
      "execution_count": null,
      "outputs": [
        {
          "output_type": "stream",
          "text": [
            "We will use the GPU: Tesla K80\n"
          ],
          "name": "stdout"
        }
      ]
    },
    {
      "cell_type": "code",
      "metadata": {
        "id": "z4Z9OTGi4zPB"
      },
      "source": [
        "data=pd.read_csv(\"/gdrive/My Drive/resource/500.2.csv\",index_col=[0])"
      ],
      "execution_count": null,
      "outputs": []
    },
    {
      "cell_type": "code",
      "metadata": {
        "colab": {
          "base_uri": "https://localhost:8080/",
          "height": 235
        },
        "id": "9nbl8ipFuYFi",
        "outputId": "977479dc-baac-409a-d988-c9f3a351efb7"
      },
      "source": [
        "data.head()"
      ],
      "execution_count": null,
      "outputs": [
        {
          "output_type": "execute_result",
          "data": {
            "text/html": [
              "<div>\n",
              "<style scoped>\n",
              "    .dataframe tbody tr th:only-of-type {\n",
              "        vertical-align: middle;\n",
              "    }\n",
              "\n",
              "    .dataframe tbody tr th {\n",
              "        vertical-align: top;\n",
              "    }\n",
              "\n",
              "    .dataframe thead th {\n",
              "        text-align: right;\n",
              "    }\n",
              "</style>\n",
              "<table border=\"1\" class=\"dataframe\">\n",
              "  <thead>\n",
              "    <tr style=\"text-align: right;\">\n",
              "      <th></th>\n",
              "      <th>value</th>\n",
              "      <th>Review</th>\n",
              "    </tr>\n",
              "    <tr>\n",
              "      <th>PhraseId</th>\n",
              "      <th></th>\n",
              "      <th></th>\n",
              "    </tr>\n",
              "  </thead>\n",
              "  <tbody>\n",
              "    <tr>\n",
              "      <th>314</th>\n",
              "      <td>1</td>\n",
              "      <td>Telefonu babalar günü için aldım, babamın ilk ...</td>\n",
              "    </tr>\n",
              "    <tr>\n",
              "      <th>36</th>\n",
              "      <td>1</td>\n",
              "      <td>İlk yıkamada etkili kullanmanızı tavsiye ederim</td>\n",
              "    </tr>\n",
              "    <tr>\n",
              "      <th>301</th>\n",
              "      <td>1</td>\n",
              "      <td>Ürün gayet güzel giriş seviyesi orta yaşlı bay...</td>\n",
              "    </tr>\n",
              "    <tr>\n",
              "      <th>228</th>\n",
              "      <td>1</td>\n",
              "      <td>ürün kaliteli güzel mıknatısı iyi tutuyor ama ...</td>\n",
              "    </tr>\n",
              "    <tr>\n",
              "      <th>13</th>\n",
              "      <td>1</td>\n",
              "      <td>fiyat fayda  oranına göre çok iyi bir ürün</td>\n",
              "    </tr>\n",
              "  </tbody>\n",
              "</table>\n",
              "</div>"
            ],
            "text/plain": [
              "          value                                             Review\n",
              "PhraseId                                                          \n",
              "314           1  Telefonu babalar günü için aldım, babamın ilk ...\n",
              "36            1    İlk yıkamada etkili kullanmanızı tavsiye ederim\n",
              "301           1  Ürün gayet güzel giriş seviyesi orta yaşlı bay...\n",
              "228           1  ürün kaliteli güzel mıknatısı iyi tutuyor ama ...\n",
              "13            1         fiyat fayda  oranına göre çok iyi bir ürün"
            ]
          },
          "metadata": {
            "tags": []
          },
          "execution_count": 7
        }
      ]
    },
    {
      "cell_type": "code",
      "metadata": {
        "colab": {
          "base_uri": "https://localhost:8080/"
        },
        "id": "kq2ok_XO54Tl",
        "outputId": "16fd235a-3c6b-49fd-f7c7-bf583c5437b4"
      },
      "source": [
        "data[\"value\"].value_counts()"
      ],
      "execution_count": null,
      "outputs": [
        {
          "output_type": "execute_result",
          "data": {
            "text/plain": [
              "1    250\n",
              "0    250\n",
              "Name: value, dtype: int64"
            ]
          },
          "metadata": {
            "tags": []
          },
          "execution_count": 8
        }
      ]
    },
    {
      "cell_type": "code",
      "metadata": {
        "id": "WOzuOc4YjwcU"
      },
      "source": [
        "text = \"Review\""
      ],
      "execution_count": null,
      "outputs": []
    },
    {
      "cell_type": "code",
      "metadata": {
        "colab": {
          "base_uri": "https://localhost:8080/"
        },
        "id": "hmIwgnvfU-hB",
        "outputId": "cd9cb8e6-2417-4b28-a858-f0c593911367"
      },
      "source": [
        "data['Review'] = data['Review'].apply(lambda x: \" \".join(x.lower() for x in x.split()))\n",
        "\n",
        "data['Review'] = data['Review'].str.replace('[^\\w\\s]','')\n",
        "\n",
        "data['Review']= data['Review'].str.replace('\\d','')\n",
        "\n",
        "nltk.download('stopwords')\n",
        "sw = set(stopwords.words('turkish'))\n",
        "data['Review'] = data['Review'].apply(lambda x: \" \".join(x for x in x.split() if x not in sw))\n"
      ],
      "execution_count": null,
      "outputs": [
        {
          "output_type": "stream",
          "text": [
            "[nltk_data] Downloading package stopwords to /root/nltk_data...\n",
            "[nltk_data]   Package stopwords is already up-to-date!\n"
          ],
          "name": "stdout"
        }
      ]
    },
    {
      "cell_type": "code",
      "metadata": {
        "id": "Mtk5Mj1k6ZWK"
      },
      "source": [
        "data=data[[\"Review\",\"value\"]]"
      ],
      "execution_count": null,
      "outputs": []
    },
    {
      "cell_type": "code",
      "metadata": {
        "id": "9PtLu6lU6m1e"
      },
      "source": [
        "comments = data['Review'].values.tolist()\n",
        "labels = data['value'].values.tolist()"
      ],
      "execution_count": null,
      "outputs": []
    },
    {
      "cell_type": "code",
      "metadata": {
        "id": "chy92MxsnTZi"
      },
      "source": [
        "cutoff = int(len(data)*0.80)\n",
        "x_train, x_test = comments[:cutoff], comments[cutoff:]\n",
        "y_train, y_test = labels[:cutoff], labels[cutoff:]"
      ],
      "execution_count": null,
      "outputs": []
    },
    {
      "cell_type": "code",
      "metadata": {
        "colab": {
          "base_uri": "https://localhost:8080/",
          "height": 640,
          "referenced_widgets": [
            "ba3a3d60fdc547aa9f0a943c0f87ad42",
            "ea9b5546e251479dab1b951ab5db9b6a",
            "f149af6005a1400bb2650aab89c04d38",
            "60ee42206e6f4f829ad8fe877fb735e1",
            "7679b01b04074af5a90ab913660ae199",
            "19bd40b82dd146e7985e8ae0ea13d678",
            "fe601e03134c44e5a537a8738229ae52",
            "8ae3a5c2153e4a60a5a21da8749685df",
            "0f7186d9ca8346bba8114063afba91c0",
            "65fbd76fed35450daa1dbf40b5ea5428",
            "9b47ab745c5740f3adca2c20af95e1d1",
            "12e220943b12409f88d44f333c7b9440",
            "f8ce13c80dca463984af1ea35d98cf6e",
            "be60916d895a45769df3da983794e0f3",
            "f944c2f946f94b4dbbc30d1769aa49d3",
            "821758f9e0d648efbef95623cec3d210",
            "28e4f96977d8427a8820758f9c825dc6",
            "593f3d1d1e7b4be78b7d91bfd594a5d9",
            "3dc9c90acf114d0a9491e7d03268cd20",
            "5bb4f472b94d4360b3fc0f0c983cc492",
            "9d81dd36fa7d4bdb9ec9e75475f3d6fe",
            "5dc615a07bcd44b1b5ef566974819c99",
            "64e31ba148f04b7ba0a10c350aee2993",
            "2b6717b79544403db98b8b5328929416"
          ]
        },
        "id": "4u-59EEv6ydf",
        "outputId": "ca2e122d-44a1-4b37-e9b0-6e6e5b189f36"
      },
      "source": [
        "!pip install transformers\n",
        "from transformers import AutoTokenizer\n",
        "#Load BERT Turkish tokenizer\n",
        "tokenizer = AutoTokenizer.from_pretrained(\"dbmdz/bert-base-turkish-cased\") \n",
        "comments,labels = data['Review'].to_list(), data['value'].to_list() \n",
        "import torch"
      ],
      "execution_count": null,
      "outputs": [
        {
          "output_type": "stream",
          "text": [
            "Collecting transformers\n",
            "\u001b[?25l  Downloading https://files.pythonhosted.org/packages/d8/b2/57495b5309f09fa501866e225c84532d1fd89536ea62406b2181933fb418/transformers-4.5.1-py3-none-any.whl (2.1MB)\n",
            "\r\u001b[K     |▏                               | 10kB 16.6MB/s eta 0:00:01\r\u001b[K     |▎                               | 20kB 17.5MB/s eta 0:00:01\r\u001b[K     |▌                               | 30kB 14.9MB/s eta 0:00:01\r\u001b[K     |▋                               | 40kB 13.5MB/s eta 0:00:01\r\u001b[K     |▉                               | 51kB 11.9MB/s eta 0:00:01\r\u001b[K     |█                               | 61kB 11.2MB/s eta 0:00:01\r\u001b[K     |█▏                              | 71kB 11.8MB/s eta 0:00:01\r\u001b[K     |█▎                              | 81kB 12.9MB/s eta 0:00:01\r\u001b[K     |█▍                              | 92kB 11.7MB/s eta 0:00:01\r\u001b[K     |█▋                              | 102kB 11.2MB/s eta 0:00:01\r\u001b[K     |█▊                              | 112kB 11.2MB/s eta 0:00:01\r\u001b[K     |██                              | 122kB 11.2MB/s eta 0:00:01\r\u001b[K     |██                              | 133kB 11.2MB/s eta 0:00:01\r\u001b[K     |██▎                             | 143kB 11.2MB/s eta 0:00:01\r\u001b[K     |██▍                             | 153kB 11.2MB/s eta 0:00:01\r\u001b[K     |██▌                             | 163kB 11.2MB/s eta 0:00:01\r\u001b[K     |██▊                             | 174kB 11.2MB/s eta 0:00:01\r\u001b[K     |██▉                             | 184kB 11.2MB/s eta 0:00:01\r\u001b[K     |███                             | 194kB 11.2MB/s eta 0:00:01\r\u001b[K     |███▏                            | 204kB 11.2MB/s eta 0:00:01\r\u001b[K     |███▍                            | 215kB 11.2MB/s eta 0:00:01\r\u001b[K     |███▌                            | 225kB 11.2MB/s eta 0:00:01\r\u001b[K     |███▋                            | 235kB 11.2MB/s eta 0:00:01\r\u001b[K     |███▉                            | 245kB 11.2MB/s eta 0:00:01\r\u001b[K     |████                            | 256kB 11.2MB/s eta 0:00:01\r\u001b[K     |████▏                           | 266kB 11.2MB/s eta 0:00:01\r\u001b[K     |████▎                           | 276kB 11.2MB/s eta 0:00:01\r\u001b[K     |████▌                           | 286kB 11.2MB/s eta 0:00:01\r\u001b[K     |████▋                           | 296kB 11.2MB/s eta 0:00:01\r\u001b[K     |████▊                           | 307kB 11.2MB/s eta 0:00:01\r\u001b[K     |█████                           | 317kB 11.2MB/s eta 0:00:01\r\u001b[K     |█████                           | 327kB 11.2MB/s eta 0:00:01\r\u001b[K     |█████▎                          | 337kB 11.2MB/s eta 0:00:01\r\u001b[K     |█████▍                          | 348kB 11.2MB/s eta 0:00:01\r\u001b[K     |█████▋                          | 358kB 11.2MB/s eta 0:00:01\r\u001b[K     |█████▊                          | 368kB 11.2MB/s eta 0:00:01\r\u001b[K     |█████▉                          | 378kB 11.2MB/s eta 0:00:01\r\u001b[K     |██████                          | 389kB 11.2MB/s eta 0:00:01\r\u001b[K     |██████▏                         | 399kB 11.2MB/s eta 0:00:01\r\u001b[K     |██████▍                         | 409kB 11.2MB/s eta 0:00:01\r\u001b[K     |██████▌                         | 419kB 11.2MB/s eta 0:00:01\r\u001b[K     |██████▊                         | 430kB 11.2MB/s eta 0:00:01\r\u001b[K     |██████▉                         | 440kB 11.2MB/s eta 0:00:01\r\u001b[K     |███████                         | 450kB 11.2MB/s eta 0:00:01\r\u001b[K     |███████▏                        | 460kB 11.2MB/s eta 0:00:01\r\u001b[K     |███████▎                        | 471kB 11.2MB/s eta 0:00:01\r\u001b[K     |███████▌                        | 481kB 11.2MB/s eta 0:00:01\r\u001b[K     |███████▋                        | 491kB 11.2MB/s eta 0:00:01\r\u001b[K     |███████▉                        | 501kB 11.2MB/s eta 0:00:01\r\u001b[K     |████████                        | 512kB 11.2MB/s eta 0:00:01\r\u001b[K     |████████                        | 522kB 11.2MB/s eta 0:00:01\r\u001b[K     |████████▎                       | 532kB 11.2MB/s eta 0:00:01\r\u001b[K     |████████▍                       | 542kB 11.2MB/s eta 0:00:01\r\u001b[K     |████████▋                       | 552kB 11.2MB/s eta 0:00:01\r\u001b[K     |████████▊                       | 563kB 11.2MB/s eta 0:00:01\r\u001b[K     |█████████                       | 573kB 11.2MB/s eta 0:00:01\r\u001b[K     |█████████                       | 583kB 11.2MB/s eta 0:00:01\r\u001b[K     |█████████▎                      | 593kB 11.2MB/s eta 0:00:01\r\u001b[K     |█████████▍                      | 604kB 11.2MB/s eta 0:00:01\r\u001b[K     |█████████▌                      | 614kB 11.2MB/s eta 0:00:01\r\u001b[K     |█████████▊                      | 624kB 11.2MB/s eta 0:00:01\r\u001b[K     |█████████▉                      | 634kB 11.2MB/s eta 0:00:01\r\u001b[K     |██████████                      | 645kB 11.2MB/s eta 0:00:01\r\u001b[K     |██████████▏                     | 655kB 11.2MB/s eta 0:00:01\r\u001b[K     |██████████▍                     | 665kB 11.2MB/s eta 0:00:01\r\u001b[K     |██████████▌                     | 675kB 11.2MB/s eta 0:00:01\r\u001b[K     |██████████▋                     | 686kB 11.2MB/s eta 0:00:01\r\u001b[K     |██████████▉                     | 696kB 11.2MB/s eta 0:00:01\r\u001b[K     |███████████                     | 706kB 11.2MB/s eta 0:00:01\r\u001b[K     |███████████▏                    | 716kB 11.2MB/s eta 0:00:01\r\u001b[K     |███████████▎                    | 727kB 11.2MB/s eta 0:00:01\r\u001b[K     |███████████▌                    | 737kB 11.2MB/s eta 0:00:01\r\u001b[K     |███████████▋                    | 747kB 11.2MB/s eta 0:00:01\r\u001b[K     |███████████▊                    | 757kB 11.2MB/s eta 0:00:01\r\u001b[K     |████████████                    | 768kB 11.2MB/s eta 0:00:01\r\u001b[K     |████████████                    | 778kB 11.2MB/s eta 0:00:01\r\u001b[K     |████████████▎                   | 788kB 11.2MB/s eta 0:00:01\r\u001b[K     |████████████▍                   | 798kB 11.2MB/s eta 0:00:01\r\u001b[K     |████████████▋                   | 808kB 11.2MB/s eta 0:00:01\r\u001b[K     |████████████▊                   | 819kB 11.2MB/s eta 0:00:01\r\u001b[K     |████████████▉                   | 829kB 11.2MB/s eta 0:00:01\r\u001b[K     |█████████████                   | 839kB 11.2MB/s eta 0:00:01\r\u001b[K     |█████████████▏                  | 849kB 11.2MB/s eta 0:00:01\r\u001b[K     |█████████████▍                  | 860kB 11.2MB/s eta 0:00:01\r\u001b[K     |█████████████▌                  | 870kB 11.2MB/s eta 0:00:01\r\u001b[K     |█████████████▊                  | 880kB 11.2MB/s eta 0:00:01\r\u001b[K     |█████████████▉                  | 890kB 11.2MB/s eta 0:00:01\r\u001b[K     |██████████████                  | 901kB 11.2MB/s eta 0:00:01\r\u001b[K     |██████████████▏                 | 911kB 11.2MB/s eta 0:00:01\r\u001b[K     |██████████████▎                 | 921kB 11.2MB/s eta 0:00:01\r\u001b[K     |██████████████▌                 | 931kB 11.2MB/s eta 0:00:01\r\u001b[K     |██████████████▋                 | 942kB 11.2MB/s eta 0:00:01\r\u001b[K     |██████████████▉                 | 952kB 11.2MB/s eta 0:00:01\r\u001b[K     |███████████████                 | 962kB 11.2MB/s eta 0:00:01\r\u001b[K     |███████████████                 | 972kB 11.2MB/s eta 0:00:01\r\u001b[K     |███████████████▎                | 983kB 11.2MB/s eta 0:00:01\r\u001b[K     |███████████████▍                | 993kB 11.2MB/s eta 0:00:01\r\u001b[K     |███████████████▋                | 1.0MB 11.2MB/s eta 0:00:01\r\u001b[K     |███████████████▊                | 1.0MB 11.2MB/s eta 0:00:01\r\u001b[K     |████████████████                | 1.0MB 11.2MB/s eta 0:00:01\r\u001b[K     |████████████████                | 1.0MB 11.2MB/s eta 0:00:01\r\u001b[K     |████████████████▏               | 1.0MB 11.2MB/s eta 0:00:01\r\u001b[K     |████████████████▍               | 1.1MB 11.2MB/s eta 0:00:01\r\u001b[K     |████████████████▌               | 1.1MB 11.2MB/s eta 0:00:01\r\u001b[K     |████████████████▊               | 1.1MB 11.2MB/s eta 0:00:01\r\u001b[K     |████████████████▉               | 1.1MB 11.2MB/s eta 0:00:01\r\u001b[K     |█████████████████               | 1.1MB 11.2MB/s eta 0:00:01\r\u001b[K     |█████████████████▏              | 1.1MB 11.2MB/s eta 0:00:01\r\u001b[K     |█████████████████▍              | 1.1MB 11.2MB/s eta 0:00:01\r\u001b[K     |█████████████████▌              | 1.1MB 11.2MB/s eta 0:00:01\r\u001b[K     |█████████████████▋              | 1.1MB 11.2MB/s eta 0:00:01\r\u001b[K     |█████████████████▉              | 1.1MB 11.2MB/s eta 0:00:01\r\u001b[K     |██████████████████              | 1.2MB 11.2MB/s eta 0:00:01\r\u001b[K     |██████████████████▏             | 1.2MB 11.2MB/s eta 0:00:01\r\u001b[K     |██████████████████▎             | 1.2MB 11.2MB/s eta 0:00:01\r\u001b[K     |██████████████████▌             | 1.2MB 11.2MB/s eta 0:00:01\r\u001b[K     |██████████████████▋             | 1.2MB 11.2MB/s eta 0:00:01\r\u001b[K     |██████████████████▊             | 1.2MB 11.2MB/s eta 0:00:01\r\u001b[K     |███████████████████             | 1.2MB 11.2MB/s eta 0:00:01\r\u001b[K     |███████████████████             | 1.2MB 11.2MB/s eta 0:00:01\r\u001b[K     |███████████████████▎            | 1.2MB 11.2MB/s eta 0:00:01\r\u001b[K     |███████████████████▍            | 1.2MB 11.2MB/s eta 0:00:01\r\u001b[K     |███████████████████▋            | 1.3MB 11.2MB/s eta 0:00:01\r\u001b[K     |███████████████████▊            | 1.3MB 11.2MB/s eta 0:00:01\r\u001b[K     |███████████████████▉            | 1.3MB 11.2MB/s eta 0:00:01\r\u001b[K     |████████████████████            | 1.3MB 11.2MB/s eta 0:00:01\r\u001b[K     |████████████████████▏           | 1.3MB 11.2MB/s eta 0:00:01\r\u001b[K     |████████████████████▍           | 1.3MB 11.2MB/s eta 0:00:01\r\u001b[K     |████████████████████▌           | 1.3MB 11.2MB/s eta 0:00:01\r\u001b[K     |████████████████████▊           | 1.3MB 11.2MB/s eta 0:00:01\r\u001b[K     |████████████████████▉           | 1.3MB 11.2MB/s eta 0:00:01\r\u001b[K     |█████████████████████           | 1.4MB 11.2MB/s eta 0:00:01\r\u001b[K     |█████████████████████▏          | 1.4MB 11.2MB/s eta 0:00:01\r\u001b[K     |█████████████████████▎          | 1.4MB 11.2MB/s eta 0:00:01\r\u001b[K     |█████████████████████▌          | 1.4MB 11.2MB/s eta 0:00:01\r\u001b[K     |█████████████████████▋          | 1.4MB 11.2MB/s eta 0:00:01\r\u001b[K     |█████████████████████▉          | 1.4MB 11.2MB/s eta 0:00:01\r\u001b[K     |██████████████████████          | 1.4MB 11.2MB/s eta 0:00:01\r\u001b[K     |██████████████████████          | 1.4MB 11.2MB/s eta 0:00:01\r\u001b[K     |██████████████████████▎         | 1.4MB 11.2MB/s eta 0:00:01\r\u001b[K     |██████████████████████▍         | 1.4MB 11.2MB/s eta 0:00:01\r\u001b[K     |██████████████████████▋         | 1.5MB 11.2MB/s eta 0:00:01\r\u001b[K     |██████████████████████▊         | 1.5MB 11.2MB/s eta 0:00:01\r\u001b[K     |███████████████████████         | 1.5MB 11.2MB/s eta 0:00:01\r\u001b[K     |███████████████████████         | 1.5MB 11.2MB/s eta 0:00:01\r\u001b[K     |███████████████████████▏        | 1.5MB 11.2MB/s eta 0:00:01\r\u001b[K     |███████████████████████▍        | 1.5MB 11.2MB/s eta 0:00:01\r\u001b[K     |███████████████████████▌        | 1.5MB 11.2MB/s eta 0:00:01\r\u001b[K     |███████████████████████▊        | 1.5MB 11.2MB/s eta 0:00:01\r\u001b[K     |███████████████████████▉        | 1.5MB 11.2MB/s eta 0:00:01\r\u001b[K     |████████████████████████        | 1.5MB 11.2MB/s eta 0:00:01\r\u001b[K     |████████████████████████▏       | 1.6MB 11.2MB/s eta 0:00:01\r\u001b[K     |████████████████████████▎       | 1.6MB 11.2MB/s eta 0:00:01\r\u001b[K     |████████████████████████▌       | 1.6MB 11.2MB/s eta 0:00:01\r\u001b[K     |████████████████████████▋       | 1.6MB 11.2MB/s eta 0:00:01\r\u001b[K     |████████████████████████▉       | 1.6MB 11.2MB/s eta 0:00:01\r\u001b[K     |█████████████████████████       | 1.6MB 11.2MB/s eta 0:00:01\r\u001b[K     |█████████████████████████▏      | 1.6MB 11.2MB/s eta 0:00:01\r\u001b[K     |█████████████████████████▎      | 1.6MB 11.2MB/s eta 0:00:01\r\u001b[K     |█████████████████████████▍      | 1.6MB 11.2MB/s eta 0:00:01\r\u001b[K     |█████████████████████████▋      | 1.6MB 11.2MB/s eta 0:00:01\r\u001b[K     |█████████████████████████▊      | 1.7MB 11.2MB/s eta 0:00:01\r\u001b[K     |██████████████████████████      | 1.7MB 11.2MB/s eta 0:00:01\r\u001b[K     |██████████████████████████      | 1.7MB 11.2MB/s eta 0:00:01\r\u001b[K     |██████████████████████████▎     | 1.7MB 11.2MB/s eta 0:00:01\r\u001b[K     |██████████████████████████▍     | 1.7MB 11.2MB/s eta 0:00:01\r\u001b[K     |██████████████████████████▋     | 1.7MB 11.2MB/s eta 0:00:01\r\u001b[K     |██████████████████████████▊     | 1.7MB 11.2MB/s eta 0:00:01\r\u001b[K     |██████████████████████████▉     | 1.7MB 11.2MB/s eta 0:00:01\r\u001b[K     |███████████████████████████     | 1.7MB 11.2MB/s eta 0:00:01\r\u001b[K     |███████████████████████████▏    | 1.8MB 11.2MB/s eta 0:00:01\r\u001b[K     |███████████████████████████▍    | 1.8MB 11.2MB/s eta 0:00:01\r\u001b[K     |███████████████████████████▌    | 1.8MB 11.2MB/s eta 0:00:01\r\u001b[K     |███████████████████████████▊    | 1.8MB 11.2MB/s eta 0:00:01\r\u001b[K     |███████████████████████████▉    | 1.8MB 11.2MB/s eta 0:00:01\r\u001b[K     |████████████████████████████    | 1.8MB 11.2MB/s eta 0:00:01\r\u001b[K     |████████████████████████████▏   | 1.8MB 11.2MB/s eta 0:00:01\r\u001b[K     |████████████████████████████▎   | 1.8MB 11.2MB/s eta 0:00:01\r\u001b[K     |████████████████████████████▌   | 1.8MB 11.2MB/s eta 0:00:01\r\u001b[K     |████████████████████████████▋   | 1.8MB 11.2MB/s eta 0:00:01\r\u001b[K     |████████████████████████████▉   | 1.9MB 11.2MB/s eta 0:00:01\r\u001b[K     |█████████████████████████████   | 1.9MB 11.2MB/s eta 0:00:01\r\u001b[K     |█████████████████████████████   | 1.9MB 11.2MB/s eta 0:00:01\r\u001b[K     |█████████████████████████████▎  | 1.9MB 11.2MB/s eta 0:00:01\r\u001b[K     |█████████████████████████████▍  | 1.9MB 11.2MB/s eta 0:00:01\r\u001b[K     |█████████████████████████████▋  | 1.9MB 11.2MB/s eta 0:00:01\r\u001b[K     |█████████████████████████████▊  | 1.9MB 11.2MB/s eta 0:00:01\r\u001b[K     |██████████████████████████████  | 1.9MB 11.2MB/s eta 0:00:01\r\u001b[K     |██████████████████████████████  | 1.9MB 11.2MB/s eta 0:00:01\r\u001b[K     |██████████████████████████████▏ | 1.9MB 11.2MB/s eta 0:00:01\r\u001b[K     |██████████████████████████████▍ | 2.0MB 11.2MB/s eta 0:00:01\r\u001b[K     |██████████████████████████████▌ | 2.0MB 11.2MB/s eta 0:00:01\r\u001b[K     |██████████████████████████████▊ | 2.0MB 11.2MB/s eta 0:00:01\r\u001b[K     |██████████████████████████████▉ | 2.0MB 11.2MB/s eta 0:00:01\r\u001b[K     |███████████████████████████████ | 2.0MB 11.2MB/s eta 0:00:01\r\u001b[K     |███████████████████████████████▏| 2.0MB 11.2MB/s eta 0:00:01\r\u001b[K     |███████████████████████████████▎| 2.0MB 11.2MB/s eta 0:00:01\r\u001b[K     |███████████████████████████████▌| 2.0MB 11.2MB/s eta 0:00:01\r\u001b[K     |███████████████████████████████▋| 2.0MB 11.2MB/s eta 0:00:01\r\u001b[K     |███████████████████████████████▉| 2.0MB 11.2MB/s eta 0:00:01\r\u001b[K     |████████████████████████████████| 2.1MB 11.2MB/s eta 0:00:01\r\u001b[K     |████████████████████████████████| 2.1MB 11.2MB/s \n",
            "\u001b[?25hRequirement already satisfied: tqdm>=4.27 in /usr/local/lib/python3.7/dist-packages (from transformers) (4.41.1)\n",
            "Requirement already satisfied: numpy>=1.17 in /usr/local/lib/python3.7/dist-packages (from transformers) (1.19.5)\n",
            "Requirement already satisfied: regex!=2019.12.17 in /usr/local/lib/python3.7/dist-packages (from transformers) (2019.12.20)\n",
            "Requirement already satisfied: importlib-metadata; python_version < \"3.8\" in /usr/local/lib/python3.7/dist-packages (from transformers) (3.10.1)\n",
            "Collecting tokenizers<0.11,>=0.10.1\n",
            "\u001b[?25l  Downloading https://files.pythonhosted.org/packages/ae/04/5b870f26a858552025a62f1649c20d29d2672c02ff3c3fb4c688ca46467a/tokenizers-0.10.2-cp37-cp37m-manylinux2010_x86_64.whl (3.3MB)\n",
            "\u001b[K     |████████████████████████████████| 3.3MB 38.4MB/s \n",
            "\u001b[?25hCollecting sacremoses\n",
            "\u001b[?25l  Downloading https://files.pythonhosted.org/packages/75/ee/67241dc87f266093c533a2d4d3d69438e57d7a90abb216fa076e7d475d4a/sacremoses-0.0.45-py3-none-any.whl (895kB)\n",
            "\u001b[K     |████████████████████████████████| 901kB 37.9MB/s \n",
            "\u001b[?25hRequirement already satisfied: requests in /usr/local/lib/python3.7/dist-packages (from transformers) (2.23.0)\n",
            "Requirement already satisfied: packaging in /usr/local/lib/python3.7/dist-packages (from transformers) (20.9)\n",
            "Requirement already satisfied: filelock in /usr/local/lib/python3.7/dist-packages (from transformers) (3.0.12)\n",
            "Requirement already satisfied: typing-extensions>=3.6.4; python_version < \"3.8\" in /usr/local/lib/python3.7/dist-packages (from importlib-metadata; python_version < \"3.8\"->transformers) (3.7.4.3)\n",
            "Requirement already satisfied: zipp>=0.5 in /usr/local/lib/python3.7/dist-packages (from importlib-metadata; python_version < \"3.8\"->transformers) (3.4.1)\n",
            "Requirement already satisfied: joblib in /usr/local/lib/python3.7/dist-packages (from sacremoses->transformers) (1.0.1)\n",
            "Requirement already satisfied: click in /usr/local/lib/python3.7/dist-packages (from sacremoses->transformers) (7.1.2)\n",
            "Requirement already satisfied: six in /usr/local/lib/python3.7/dist-packages (from sacremoses->transformers) (1.15.0)\n",
            "Requirement already satisfied: idna<3,>=2.5 in /usr/local/lib/python3.7/dist-packages (from requests->transformers) (2.10)\n",
            "Requirement already satisfied: chardet<4,>=3.0.2 in /usr/local/lib/python3.7/dist-packages (from requests->transformers) (3.0.4)\n",
            "Requirement already satisfied: certifi>=2017.4.17 in /usr/local/lib/python3.7/dist-packages (from requests->transformers) (2020.12.5)\n",
            "Requirement already satisfied: urllib3!=1.25.0,!=1.25.1,<1.26,>=1.21.1 in /usr/local/lib/python3.7/dist-packages (from requests->transformers) (1.24.3)\n",
            "Requirement already satisfied: pyparsing>=2.0.2 in /usr/local/lib/python3.7/dist-packages (from packaging->transformers) (2.4.7)\n",
            "Installing collected packages: tokenizers, sacremoses, transformers\n",
            "Successfully installed sacremoses-0.0.45 tokenizers-0.10.2 transformers-4.5.1\n"
          ],
          "name": "stdout"
        },
        {
          "output_type": "display_data",
          "data": {
            "application/vnd.jupyter.widget-view+json": {
              "model_id": "ba3a3d60fdc547aa9f0a943c0f87ad42",
              "version_minor": 0,
              "version_major": 2
            },
            "text/plain": [
              "HBox(children=(FloatProgress(value=0.0, description='Downloading', max=385.0, style=ProgressStyle(description_…"
            ]
          },
          "metadata": {
            "tags": []
          }
        },
        {
          "output_type": "stream",
          "text": [
            "\n"
          ],
          "name": "stdout"
        },
        {
          "output_type": "display_data",
          "data": {
            "application/vnd.jupyter.widget-view+json": {
              "model_id": "0f7186d9ca8346bba8114063afba91c0",
              "version_minor": 0,
              "version_major": 2
            },
            "text/plain": [
              "HBox(children=(FloatProgress(value=0.0, description='Downloading', max=251003.0, style=ProgressStyle(descripti…"
            ]
          },
          "metadata": {
            "tags": []
          }
        },
        {
          "output_type": "stream",
          "text": [
            "\n"
          ],
          "name": "stdout"
        },
        {
          "output_type": "display_data",
          "data": {
            "application/vnd.jupyter.widget-view+json": {
              "model_id": "28e4f96977d8427a8820758f9c825dc6",
              "version_minor": 0,
              "version_major": 2
            },
            "text/plain": [
              "HBox(children=(FloatProgress(value=0.0, description='Downloading', max=60.0, style=ProgressStyle(description_w…"
            ]
          },
          "metadata": {
            "tags": []
          }
        },
        {
          "output_type": "stream",
          "text": [
            "\n"
          ],
          "name": "stdout"
        }
      ]
    },
    {
      "cell_type": "code",
      "metadata": {
        "colab": {
          "base_uri": "https://localhost:8080/",
          "height": 334
        },
        "id": "iI6pxcXqTcy-",
        "outputId": "2de1b256-3c9b-470f-c7e9-4e407d777186"
      },
      "source": [
        "import matplotlib.pyplot as plt\n",
        "def plot_sentence_embeddings_length(text_list, tokenizer):\n",
        "    tokenized_texts = list(map(lambda t: tokenizer.tokenize(t), text_list))\n",
        "    tokenized_texts_len = list(map(lambda t: len(t), tokenized_texts))\n",
        "    fig, ax = plt.subplots(figsize=(8, 5));\n",
        "    ax.hist(tokenized_texts_len, bins=40);\n",
        "    ax.set_xlabel(\"Length of Comment Embeddings\");\n",
        "    ax.set_ylabel(\"Number of Comments\");\n",
        "    return\n",
        "plot_sentence_embeddings_length(comments, tokenizer)"
      ],
      "execution_count": null,
      "outputs": [
        {
          "output_type": "display_data",
          "data": {
            "image/png": "[encoded data removed]",
            "text/plain": [
              "<Figure size 576x360 with 1 Axes>"
            ]
          },
          "metadata": {
            "tags": [],
            "needs_background": "light"
          }
        }
      ]
    },
    {
      "cell_type": "code",
      "metadata": {
        "colab": {
          "base_uri": "https://localhost:8080/"
        },
        "id": "V8CAAIkKTl-L",
        "outputId": "6fc46c7f-2c19-4b0d-a98e-f4214d5e80fa"
      },
      "source": [
        "indices=tokenizer.batch_encode_plus(comments,max_length=64,add_special_tokens=True, return_attention_mask=True,pad_to_max_length=True,truncation=True)\n",
        "\n",
        "\n",
        "input_ids=indices[\"input_ids\"]\n",
        "attention_masks=indices[\"attention_mask\"]\n",
        "\n",
        "from sklearn.model_selection import train_test_split\n",
        "\n",
        "\n",
        "train_inputs, validation_inputs, train_labels, validation_labels = train_test_split(input_ids, labels, \n",
        "                                                            random_state=42, test_size=0.2)\n",
        "\n",
        "train_masks, validation_masks, _, _ = train_test_split(attention_masks, labels,\n",
        "                                             random_state=42, test_size=0.2)"
      ],
      "execution_count": null,
      "outputs": [
        {
          "output_type": "stream",
          "text": [
            "/usr/local/lib/python3.7/dist-packages/transformers/tokenization_utils_base.py:2079: FutureWarning: The `pad_to_max_length` argument is deprecated and will be removed in a future version, use `padding=True` or `padding='longest'` to pad to the longest sequence in the batch, or use `padding='max_length'` to pad to a max length. In this case, you can give a specific length with `max_length` (e.g. `max_length=45`) or leave max_length to None to pad to the maximal input size of the model (e.g. 512 for Bert).\n",
            "  FutureWarning,\n"
          ],
          "name": "stderr"
        }
      ]
    },
    {
      "cell_type": "code",
      "metadata": {
        "id": "zG5C8Fv8TsyP"
      },
      "source": [
        "train_inputs = torch.tensor(train_inputs)\n",
        "validation_inputs = torch.tensor(validation_inputs)\n",
        "train_labels = torch.tensor(train_labels, dtype=torch.long)\n",
        "validation_labels = torch.tensor(validation_labels, dtype=torch.long)\n",
        "train_masks = torch.tensor(train_masks, dtype=torch.long)\n",
        "validation_masks = torch.tensor(validation_masks, dtype=torch.long)"
      ],
      "execution_count": null,
      "outputs": []
    },
    {
      "cell_type": "code",
      "metadata": {
        "id": "hbULW0u0TvWp"
      },
      "source": [
        "from torch.utils.data import TensorDataset, DataLoader, RandomSampler, SequentialSampler\n",
        "\n",
        "batch_size = 64\n",
        "\n",
        "train_data = TensorDataset(train_inputs, train_masks, train_labels)\n",
        "train_sampler = RandomSampler(train_data)\n",
        "train_dataloader = DataLoader(train_data, sampler=train_sampler, batch_size=batch_size)\n",
        "\n",
        "validation_data = TensorDataset(validation_inputs, validation_masks, validation_labels)\n",
        "validation_sampler = SequentialSampler(validation_data)\n",
        "validation_dataloader = DataLoader(validation_data, sampler=validation_sampler, batch_size=batch_size)"
      ],
      "execution_count": null,
      "outputs": []
    },
    {
      "cell_type": "code",
      "metadata": {
        "colab": {
          "base_uri": "https://localhost:8080/",
          "height": 1000,
          "referenced_widgets": [
            "11b91bb9f0cd491289a84a44e3f310bf",
            "9233e236516c49b28b518465883a2ff5",
            "bbff02675563485dbaff1faae8d08ea8",
            "6611f72ccc924b108571f49b388e583f",
            "5cd50eaf84ae423ab428a27906438c9a",
            "b19985f4273842e79df80020b4e6aaca",
            "06d1e27896fa457a94306b1f05d27e0a",
            "a3be2aabae1f464f8911da69c0c406ee"
          ]
        },
        "id": "f8D5wbIqUmUk",
        "outputId": "fc4929e2-5a36-45c2-b35a-d52f86cc9ee0"
      },
      "source": [
        "from transformers import AutoModelForSequenceClassification, AdamW, AutoConfig\n",
        "config = AutoConfig.from_pretrained(\n",
        "        \"dbmdz/bert-base-turkish-cased\",num_labels=2)\n",
        "\n",
        "model = AutoModelForSequenceClassification.from_pretrained(\n",
        "    \"dbmdz/bert-base-turkish-cased\",config=config)\n",
        "\n",
        "model.cuda()"
      ],
      "execution_count": null,
      "outputs": [
        {
          "output_type": "display_data",
          "data": {
            "application/vnd.jupyter.widget-view+json": {
              "model_id": "11b91bb9f0cd491289a84a44e3f310bf",
              "version_minor": 0,
              "version_major": 2
            },
            "text/plain": [
              "HBox(children=(FloatProgress(value=0.0, description='Downloading', max=445018508.0, style=ProgressStyle(descri…"
            ]
          },
          "metadata": {
            "tags": []
          }
        },
        {
          "output_type": "stream",
          "text": [
            "\n"
          ],
          "name": "stdout"
        },
        {
          "output_type": "stream",
          "text": [
            "Some weights of the model checkpoint at dbmdz/bert-base-turkish-cased were not used when initializing BertForSequenceClassification: ['cls.predictions.bias', 'cls.predictions.transform.dense.weight', 'cls.predictions.transform.dense.bias', 'cls.predictions.transform.LayerNorm.weight', 'cls.predictions.transform.LayerNorm.bias', 'cls.predictions.decoder.weight', 'cls.predictions.decoder.bias', 'cls.seq_relationship.weight', 'cls.seq_relationship.bias']\n",
            "- This IS expected if you are initializing BertForSequenceClassification from the checkpoint of a model trained on another task or with another architecture (e.g. initializing a BertForSequenceClassification model from a BertForPreTraining model).\n",
            "- This IS NOT expected if you are initializing BertForSequenceClassification from the checkpoint of a model that you expect to be exactly identical (initializing a BertForSequenceClassification model from a BertForSequenceClassification model).\n",
            "Some weights of BertForSequenceClassification were not initialized from the model checkpoint at dbmdz/bert-base-turkish-cased and are newly initialized: ['classifier.weight', 'classifier.bias']\n",
            "You should probably TRAIN this model on a down-stream task to be able to use it for predictions and inference.\n"
          ],
          "name": "stderr"
        },
        {
          "output_type": "execute_result",
          "data": {
            "text/plain": [
              "BertForSequenceClassification(\n",
              "  (bert): BertModel(\n",
              "    (embeddings): BertEmbeddings(\n",
              "      (word_embeddings): Embedding(32000, 768, padding_idx=0)\n",
              "      (position_embeddings): Embedding(512, 768)\n",
              "      (token_type_embeddings): Embedding(2, 768)\n",
              "      (LayerNorm): LayerNorm((768,), eps=1e-12, elementwise_affine=True)\n",
              "      (dropout): Dropout(p=0.1, inplace=False)\n",
              "    )\n",
              "    (encoder): BertEncoder(\n",
              "      (layer): ModuleList(\n",
              "        (0): BertLayer(\n",
              "          (attention): BertAttention(\n",
              "            (self): BertSelfAttention(\n",
              "              (query): Linear(in_features=768, out_features=768, bias=True)\n",
              "              (key): Linear(in_features=768, out_features=768, bias=True)\n",
              "              (value): Linear(in_features=768, out_features=768, bias=True)\n",
              "              (dropout): Dropout(p=0.1, inplace=False)\n",
              "            )\n",
              "            (output): BertSelfOutput(\n",
              "              (dense): Linear(in_features=768, out_features=768, bias=True)\n",
              "              (LayerNorm): LayerNorm((768,), eps=1e-12, elementwise_affine=True)\n",
              "              (dropout): Dropout(p=0.1, inplace=False)\n",
              "            )\n",
              "          )\n",
              "          (intermediate): BertIntermediate(\n",
              "            (dense): Linear(in_features=768, out_features=3072, bias=True)\n",
              "          )\n",
              "          (output): BertOutput(\n",
              "            (dense): Linear(in_features=3072, out_features=768, bias=True)\n",
              "            (LayerNorm): LayerNorm((768,), eps=1e-12, elementwise_affine=True)\n",
              "            (dropout): Dropout(p=0.1, inplace=False)\n",
              "          )\n",
              "        )\n",
              "        (1): BertLayer(\n",
              "          (attention): BertAttention(\n",
              "            (self): BertSelfAttention(\n",
              "              (query): Linear(in_features=768, out_features=768, bias=True)\n",
              "              (key): Linear(in_features=768, out_features=768, bias=True)\n",
              "              (value): Linear(in_features=768, out_features=768, bias=True)\n",
              "              (dropout): Dropout(p=0.1, inplace=False)\n",
              "            )\n",
              "            (output): BertSelfOutput(\n",
              "              (dense): Linear(in_features=768, out_features=768, bias=True)\n",
              "              (LayerNorm): LayerNorm((768,), eps=1e-12, elementwise_affine=True)\n",
              "              (dropout): Dropout(p=0.1, inplace=False)\n",
              "            )\n",
              "          )\n",
              "          (intermediate): BertIntermediate(\n",
              "            (dense): Linear(in_features=768, out_features=3072, bias=True)\n",
              "          )\n",
              "          (output): BertOutput(\n",
              "            (dense): Linear(in_features=3072, out_features=768, bias=True)\n",
              "            (LayerNorm): LayerNorm((768,), eps=1e-12, elementwise_affine=True)\n",
              "            (dropout): Dropout(p=0.1, inplace=False)\n",
              "          )\n",
              "        )\n",
              "        (2): BertLayer(\n",
              "          (attention): BertAttention(\n",
              "            (self): BertSelfAttention(\n",
              "              (query): Linear(in_features=768, out_features=768, bias=True)\n",
              "              (key): Linear(in_features=768, out_features=768, bias=True)\n",
              "              (value): Linear(in_features=768, out_features=768, bias=True)\n",
              "              (dropout): Dropout(p=0.1, inplace=False)\n",
              "            )\n",
              "            (output): BertSelfOutput(\n",
              "              (dense): Linear(in_features=768, out_features=768, bias=True)\n",
              "              (LayerNorm): LayerNorm((768,), eps=1e-12, elementwise_affine=True)\n",
              "              (dropout): Dropout(p=0.1, inplace=False)\n",
              "            )\n",
              "          )\n",
              "          (intermediate): BertIntermediate(\n",
              "            (dense): Linear(in_features=768, out_features=3072, bias=True)\n",
              "          )\n",
              "          (output): BertOutput(\n",
              "            (dense): Linear(in_features=3072, out_features=768, bias=True)\n",
              "            (LayerNorm): LayerNorm((768,), eps=1e-12, elementwise_affine=True)\n",
              "            (dropout): Dropout(p=0.1, inplace=False)\n",
              "          )\n",
              "        )\n",
              "        (3): BertLayer(\n",
              "          (attention): BertAttention(\n",
              "            (self): BertSelfAttention(\n",
              "              (query): Linear(in_features=768, out_features=768, bias=True)\n",
              "              (key): Linear(in_features=768, out_features=768, bias=True)\n",
              "              (value): Linear(in_features=768, out_features=768, bias=True)\n",
              "              (dropout): Dropout(p=0.1, inplace=False)\n",
              "            )\n",
              "            (output): BertSelfOutput(\n",
              "              (dense): Linear(in_features=768, out_features=768, bias=True)\n",
              "              (LayerNorm): LayerNorm((768,), eps=1e-12, elementwise_affine=True)\n",
              "              (dropout): Dropout(p=0.1, inplace=False)\n",
              "            )\n",
              "          )\n",
              "          (intermediate): BertIntermediate(\n",
              "            (dense): Linear(in_features=768, out_features=3072, bias=True)\n",
              "          )\n",
              "          (output): BertOutput(\n",
              "            (dense): Linear(in_features=3072, out_features=768, bias=True)\n",
              "            (LayerNorm): LayerNorm((768,), eps=1e-12, elementwise_affine=True)\n",
              "            (dropout): Dropout(p=0.1, inplace=False)\n",
              "          )\n",
              "        )\n",
              "        (4): BertLayer(\n",
              "          (attention): BertAttention(\n",
              "            (self): BertSelfAttention(\n",
              "              (query): Linear(in_features=768, out_features=768, bias=True)\n",
              "              (key): Linear(in_features=768, out_features=768, bias=True)\n",
              "              (value): Linear(in_features=768, out_features=768, bias=True)\n",
              "              (dropout): Dropout(p=0.1, inplace=False)\n",
              "            )\n",
              "            (output): BertSelfOutput(\n",
              "              (dense): Linear(in_features=768, out_features=768, bias=True)\n",
              "              (LayerNorm): LayerNorm((768,), eps=1e-12, elementwise_affine=True)\n",
              "              (dropout): Dropout(p=0.1, inplace=False)\n",
              "            )\n",
              "          )\n",
              "          (intermediate): BertIntermediate(\n",
              "            (dense): Linear(in_features=768, out_features=3072, bias=True)\n",
              "          )\n",
              "          (output): BertOutput(\n",
              "            (dense): Linear(in_features=3072, out_features=768, bias=True)\n",
              "            (LayerNorm): LayerNorm((768,), eps=1e-12, elementwise_affine=True)\n",
              "            (dropout): Dropout(p=0.1, inplace=False)\n",
              "          )\n",
              "        )\n",
              "        (5): BertLayer(\n",
              "          (attention): BertAttention(\n",
              "            (self): BertSelfAttention(\n",
              "              (query): Linear(in_features=768, out_features=768, bias=True)\n",
              "              (key): Linear(in_features=768, out_features=768, bias=True)\n",
              "              (value): Linear(in_features=768, out_features=768, bias=True)\n",
              "              (dropout): Dropout(p=0.1, inplace=False)\n",
              "            )\n",
              "            (output): BertSelfOutput(\n",
              "              (dense): Linear(in_features=768, out_features=768, bias=True)\n",
              "              (LayerNorm): LayerNorm((768,), eps=1e-12, elementwise_affine=True)\n",
              "              (dropout): Dropout(p=0.1, inplace=False)\n",
              "            )\n",
              "          )\n",
              "          (intermediate): BertIntermediate(\n",
              "            (dense): Linear(in_features=768, out_features=3072, bias=True)\n",
              "          )\n",
              "          (output): BertOutput(\n",
              "            (dense): Linear(in_features=3072, out_features=768, bias=True)\n",
              "            (LayerNorm): LayerNorm((768,), eps=1e-12, elementwise_affine=True)\n",
              "            (dropout): Dropout(p=0.1, inplace=False)\n",
              "          )\n",
              "        )\n",
              "        (6): BertLayer(\n",
              "          (attention): BertAttention(\n",
              "            (self): BertSelfAttention(\n",
              "              (query): Linear(in_features=768, out_features=768, bias=True)\n",
              "              (key): Linear(in_features=768, out_features=768, bias=True)\n",
              "              (value): Linear(in_features=768, out_features=768, bias=True)\n",
              "              (dropout): Dropout(p=0.1, inplace=False)\n",
              "            )\n",
              "            (output): BertSelfOutput(\n",
              "              (dense): Linear(in_features=768, out_features=768, bias=True)\n",
              "              (LayerNorm): LayerNorm((768,), eps=1e-12, elementwise_affine=True)\n",
              "              (dropout): Dropout(p=0.1, inplace=False)\n",
              "            )\n",
              "          )\n",
              "          (intermediate): BertIntermediate(\n",
              "            (dense): Linear(in_features=768, out_features=3072, bias=True)\n",
              "          )\n",
              "          (output): BertOutput(\n",
              "            (dense): Linear(in_features=3072, out_features=768, bias=True)\n",
              "            (LayerNorm): LayerNorm((768,), eps=1e-12, elementwise_affine=True)\n",
              "            (dropout): Dropout(p=0.1, inplace=False)\n",
              "          )\n",
              "        )\n",
              "        (7): BertLayer(\n",
              "          (attention): BertAttention(\n",
              "            (self): BertSelfAttention(\n",
              "              (query): Linear(in_features=768, out_features=768, bias=True)\n",
              "              (key): Linear(in_features=768, out_features=768, bias=True)\n",
              "              (value): Linear(in_features=768, out_features=768, bias=True)\n",
              "              (dropout): Dropout(p=0.1, inplace=False)\n",
              "            )\n",
              "            (output): BertSelfOutput(\n",
              "              (dense): Linear(in_features=768, out_features=768, bias=True)\n",
              "              (LayerNorm): LayerNorm((768,), eps=1e-12, elementwise_affine=True)\n",
              "              (dropout): Dropout(p=0.1, inplace=False)\n",
              "            )\n",
              "          )\n",
              "          (intermediate): BertIntermediate(\n",
              "            (dense): Linear(in_features=768, out_features=3072, bias=True)\n",
              "          )\n",
              "          (output): BertOutput(\n",
              "            (dense): Linear(in_features=3072, out_features=768, bias=True)\n",
              "            (LayerNorm): LayerNorm((768,), eps=1e-12, elementwise_affine=True)\n",
              "            (dropout): Dropout(p=0.1, inplace=False)\n",
              "          )\n",
              "        )\n",
              "        (8): BertLayer(\n",
              "          (attention): BertAttention(\n",
              "            (self): BertSelfAttention(\n",
              "              (query): Linear(in_features=768, out_features=768, bias=True)\n",
              "              (key): Linear(in_features=768, out_features=768, bias=True)\n",
              "              (value): Linear(in_features=768, out_features=768, bias=True)\n",
              "              (dropout): Dropout(p=0.1, inplace=False)\n",
              "            )\n",
              "            (output): BertSelfOutput(\n",
              "              (dense): Linear(in_features=768, out_features=768, bias=True)\n",
              "              (LayerNorm): LayerNorm((768,), eps=1e-12, elementwise_affine=True)\n",
              "              (dropout): Dropout(p=0.1, inplace=False)\n",
              "            )\n",
              "          )\n",
              "          (intermediate): BertIntermediate(\n",
              "            (dense): Linear(in_features=768, out_features=3072, bias=True)\n",
              "          )\n",
              "          (output): BertOutput(\n",
              "            (dense): Linear(in_features=3072, out_features=768, bias=True)\n",
              "            (LayerNorm): LayerNorm((768,), eps=1e-12, elementwise_affine=True)\n",
              "            (dropout): Dropout(p=0.1, inplace=False)\n",
              "          )\n",
              "        )\n",
              "        (9): BertLayer(\n",
              "          (attention): BertAttention(\n",
              "            (self): BertSelfAttention(\n",
              "              (query): Linear(in_features=768, out_features=768, bias=True)\n",
              "              (key): Linear(in_features=768, out_features=768, bias=True)\n",
              "              (value): Linear(in_features=768, out_features=768, bias=True)\n",
              "              (dropout): Dropout(p=0.1, inplace=False)\n",
              "            )\n",
              "            (output): BertSelfOutput(\n",
              "              (dense): Linear(in_features=768, out_features=768, bias=True)\n",
              "              (LayerNorm): LayerNorm((768,), eps=1e-12, elementwise_affine=True)\n",
              "              (dropout): Dropout(p=0.1, inplace=False)\n",
              "            )\n",
              "          )\n",
              "          (intermediate): BertIntermediate(\n",
              "            (dense): Linear(in_features=768, out_features=3072, bias=True)\n",
              "          )\n",
              "          (output): BertOutput(\n",
              "            (dense): Linear(in_features=3072, out_features=768, bias=True)\n",
              "            (LayerNorm): LayerNorm((768,), eps=1e-12, elementwise_affine=True)\n",
              "            (dropout): Dropout(p=0.1, inplace=False)\n",
              "          )\n",
              "        )\n",
              "        (10): BertLayer(\n",
              "          (attention): BertAttention(\n",
              "            (self): BertSelfAttention(\n",
              "              (query): Linear(in_features=768, out_features=768, bias=True)\n",
              "              (key): Linear(in_features=768, out_features=768, bias=True)\n",
              "              (value): Linear(in_features=768, out_features=768, bias=True)\n",
              "              (dropout): Dropout(p=0.1, inplace=False)\n",
              "            )\n",
              "            (output): BertSelfOutput(\n",
              "              (dense): Linear(in_features=768, out_features=768, bias=True)\n",
              "              (LayerNorm): LayerNorm((768,), eps=1e-12, elementwise_affine=True)\n",
              "              (dropout): Dropout(p=0.1, inplace=False)\n",
              "            )\n",
              "          )\n",
              "          (intermediate): BertIntermediate(\n",
              "            (dense): Linear(in_features=768, out_features=3072, bias=True)\n",
              "          )\n",
              "          (output): BertOutput(\n",
              "            (dense): Linear(in_features=3072, out_features=768, bias=True)\n",
              "            (LayerNorm): LayerNorm((768,), eps=1e-12, elementwise_affine=True)\n",
              "            (dropout): Dropout(p=0.1, inplace=False)\n",
              "          )\n",
              "        )\n",
              "        (11): BertLayer(\n",
              "          (attention): BertAttention(\n",
              "            (self): BertSelfAttention(\n",
              "              (query): Linear(in_features=768, out_features=768, bias=True)\n",
              "              (key): Linear(in_features=768, out_features=768, bias=True)\n",
              "              (value): Linear(in_features=768, out_features=768, bias=True)\n",
              "              (dropout): Dropout(p=0.1, inplace=False)\n",
              "            )\n",
              "            (output): BertSelfOutput(\n",
              "              (dense): Linear(in_features=768, out_features=768, bias=True)\n",
              "              (LayerNorm): LayerNorm((768,), eps=1e-12, elementwise_affine=True)\n",
              "              (dropout): Dropout(p=0.1, inplace=False)\n",
              "            )\n",
              "          )\n",
              "          (intermediate): BertIntermediate(\n",
              "            (dense): Linear(in_features=768, out_features=3072, bias=True)\n",
              "          )\n",
              "          (output): BertOutput(\n",
              "            (dense): Linear(in_features=3072, out_features=768, bias=True)\n",
              "            (LayerNorm): LayerNorm((768,), eps=1e-12, elementwise_affine=True)\n",
              "            (dropout): Dropout(p=0.1, inplace=False)\n",
              "          )\n",
              "        )\n",
              "      )\n",
              "    )\n",
              "    (pooler): BertPooler(\n",
              "      (dense): Linear(in_features=768, out_features=768, bias=True)\n",
              "      (activation): Tanh()\n",
              "    )\n",
              "  )\n",
              "  (dropout): Dropout(p=0.1, inplace=False)\n",
              "  (classifier): Linear(in_features=768, out_features=2, bias=True)\n",
              ")"
            ]
          },
          "metadata": {
            "tags": []
          },
          "execution_count": 23
        }
      ]
    },
    {
      "cell_type": "code",
      "metadata": {
        "id": "h9Ab2ryETv-X"
      },
      "source": [
        "optimizer = AdamW(model.parameters(),\n",
        "                  lr = 6e-6, \n",
        "                  eps = 1e-8 )\n",
        "\n",
        "\n",
        "from transformers import get_linear_schedule_with_warmup\n",
        "\n",
        "# Number of training epochs (authors recommend between 2 and 4)\n",
        "epochs = 2\n",
        "\n",
        "# Total number of training steps is number of batches * number of epochs.\n",
        "total_steps = len(train_dataloader) * epochs\n",
        "\n",
        "# Create the learning rate scheduler.\n",
        "scheduler = get_linear_schedule_with_warmup(optimizer, \n",
        "                                            num_warmup_steps = 0, \n",
        "                                            num_training_steps = total_steps)"
      ],
      "execution_count": null,
      "outputs": []
    },
    {
      "cell_type": "code",
      "metadata": {
        "id": "6o_3eEScUAEH"
      },
      "source": [
        "import numpy as np\n",
        "\n",
        "\n",
        "def flat_accuracy(preds, labels):\n",
        "    pred_flat = np.argmax(preds, axis=1).flatten()\n",
        "    labels_flat = labels.flatten()\n",
        "    return np.sum(pred_flat == labels_flat) / len(labels_flat)\n",
        "\n",
        "import time\n",
        "import datetime\n",
        "\n",
        "def format_time(elapsed):\n",
        "  \n",
        "    elapsed_rounded = int(round((elapsed)))\n",
        " \n",
        "    return str(datetime.timedelta(seconds=elapsed_rounded))"
      ],
      "execution_count": null,
      "outputs": []
    },
    {
      "cell_type": "code",
      "metadata": {
        "colab": {
          "base_uri": "https://localhost:8080/"
        },
        "id": "K-wgWvErUD5Y",
        "outputId": "ac6eaee3-f07b-4f10-e17c-15e7ab493410"
      },
      "source": [
        "import random\n",
        "\n",
        "seed_val = 42\n",
        "\n",
        "random.seed(seed_val)\n",
        "np.random.seed(seed_val)\n",
        "torch.manual_seed(seed_val)\n",
        "torch.cuda.manual_seed_all(seed_val)\n",
        "\n",
        "loss_values = []\n",
        "\n",
        "for epoch_i in range(0, epochs):\n",
        "    \n",
        "  \n",
        "\n",
        "    print(\"\")\n",
        "    print('======== Epoch {:} / {:} ========'.format(epoch_i + 1, epochs))\n",
        "    print('Training...')\n",
        "\n",
        "   \n",
        "    t0 = time.time()\n",
        "\n",
        "    total_loss = 0\n",
        "\n",
        "    model.train()\n",
        "\n",
        "    for step, batch in enumerate(train_dataloader):\n",
        "\n",
        "      \n",
        "        if step % 50 == 0 and not step == 0:\n",
        "            \n",
        "            elapsed = format_time(time.time() - t0)\n",
        "            \n",
        "            \n",
        "            print('  Batch {:>5,}  of  {:>5,}.    Elapsed: {:}.'.format(step, len(train_dataloader), elapsed))\n",
        "\n",
        "       \n",
        "        b_input_ids = batch[0].to(device)\n",
        "        b_input_mask = batch[1].to(device)\n",
        "        b_labels = batch[2].to(device)\n",
        "\n",
        "      \n",
        "        model.zero_grad()        \n",
        "\n",
        "     \n",
        "        outputs = model(b_input_ids, \n",
        "                    token_type_ids=None, \n",
        "                    attention_mask=b_input_mask, \n",
        "                    labels=b_labels)\n",
        "        \n",
        "      \n",
        "        loss = outputs[0]\n",
        "\n",
        "       \n",
        "        total_loss += loss.item()\n",
        "\n",
        "      \n",
        "        loss.backward()\n",
        "\n",
        "        \n",
        "        torch.nn.utils.clip_grad_norm_(model.parameters(), 1.0)\n",
        "\n",
        "        \n",
        "        optimizer.step()\n",
        "\n",
        "      \n",
        "        scheduler.step()\n",
        "\n",
        "    \n",
        "    avg_train_loss = total_loss / len(train_dataloader)            \n",
        "    \n",
        "    \n",
        "    loss_values.append(avg_train_loss)\n",
        "\n",
        "    print(\"\")\n",
        "    print(\"  Average training loss: {0:.2f}\".format(avg_train_loss))\n",
        "    print(\"  Training epoch took: {:}\".format(format_time(time.time() - t0)))\n",
        "      \n",
        "print(\"\")\n",
        "print(\"Training complete!\")"
      ],
      "execution_count": null,
      "outputs": [
        {
          "output_type": "stream",
          "text": [
            "\n",
            "======== Epoch 1 / 2 ========\n",
            "Training...\n",
            "\n",
            "  Average training loss: 0.70\n",
            "  Training epoch took: 0:00:08\n",
            "\n",
            "======== Epoch 2 / 2 ========\n",
            "Training...\n",
            "\n",
            "  Average training loss: 0.69\n",
            "  Training epoch took: 0:00:07\n",
            "\n",
            "Training complete!\n"
          ],
          "name": "stdout"
        }
      ]
    },
    {
      "cell_type": "markdown",
      "metadata": {
        "id": "clFVSt9WVKiR"
      },
      "source": [
        "3) BERTurk Model Performance on Test Set"
      ]
    },
    {
      "cell_type": "code",
      "metadata": {
        "colab": {
          "base_uri": "https://localhost:8080/"
        },
        "id": "Ts5vwbvKVOse",
        "outputId": "23f34655-0ace-4fe0-b677-a8559d38a663"
      },
      "source": [
        "comments1 = data['Review'].values.tolist()\n",
        "labels1 = data['value'].values.tolist()\n",
        "\n",
        "cutoff = int(len(data)*0.80)\n",
        "x_train, x_test = comments1[:cutoff], comments1[cutoff:]\n",
        "y_train, y_test = labels1[:cutoff], labels1[cutoff:]\n",
        "\n",
        "\n",
        "indices1=tokenizer.batch_encode_plus(comments1,max_length=128,add_special_tokens=True, return_attention_mask=True,pad_to_max_length=True,truncation=True)\n",
        "input_ids1=indices1[\"input_ids\"]\n",
        "attention_masks1=indices1[\"attention_mask\"]\n",
        "\n",
        "prediction_inputs1= torch.tensor(input_ids1)\n",
        "prediction_masks1 = torch.tensor(attention_masks1)\n",
        "prediction_labels1 = torch.tensor(labels1)\n",
        "\n",
        "\n",
        "prediction_data1 = TensorDataset(prediction_inputs1, prediction_masks1, prediction_labels1)\n",
        "prediction_sampler1 = SequentialSampler(prediction_data1)\n",
        "prediction_dataloader1 = DataLoader(prediction_data1, sampler=prediction_sampler1, batch_size=batch_size)"
      ],
      "execution_count": null,
      "outputs": [
        {
          "output_type": "stream",
          "text": [
            "/usr/local/lib/python3.7/dist-packages/transformers/tokenization_utils_base.py:2079: FutureWarning: The `pad_to_max_length` argument is deprecated and will be removed in a future version, use `padding=True` or `padding='longest'` to pad to the longest sequence in the batch, or use `padding='max_length'` to pad to a max length. In this case, you can give a specific length with `max_length` (e.g. `max_length=45`) or leave max_length to None to pad to the maximal input size of the model (e.g. 512 for Bert).\n",
            "  FutureWarning,\n"
          ],
          "name": "stderr"
        }
      ]
    },
    {
      "cell_type": "code",
      "metadata": {
        "colab": {
          "base_uri": "https://localhost:8080/"
        },
        "id": "HDuCWUcSVfw1",
        "outputId": "bc26e582-0eee-4b35-f55f-d469c0a5a40e"
      },
      "source": [
        "\n",
        "print('Predicting labels for {:,} test sentences...'.format(len(prediction_inputs1)))\n",
        "\n",
        "model.eval()\n",
        "\n",
        "predictions , true_labels = [], []\n",
        "\n",
        "for batch in prediction_dataloader1:\n",
        "\n",
        "  batch = tuple(t.to(device) for t in batch)\n",
        "  \n",
        "\n",
        "  b_input_ids1, b_input_mask1, b_labels1 = batch\n",
        " \n",
        "  with torch.no_grad():\n",
        "     \n",
        "      outputs1 = model(b_input_ids1, token_type_ids=None, \n",
        "                      attention_mask=b_input_mask1)\n",
        "\n",
        "  logits1 = outputs1[0]\n",
        "\n",
        "  logits1 = logits1.detach().cpu().numpy()\n",
        "  label_ids1 = b_labels1.to('cpu').numpy()\n",
        "  \n",
        "  predictions.append(logits1)\n",
        "  true_labels.append(label_ids1)\n",
        "\n",
        "print('    DONE.')"
      ],
      "execution_count": null,
      "outputs": [
        {
          "output_type": "stream",
          "text": [
            "Predicting labels for 500 test sentences...\n",
            "    DONE.\n"
          ],
          "name": "stdout"
        }
      ]
    },
    {
      "cell_type": "code",
      "metadata": {
        "id": "GuJT6YdVVjQw"
      },
      "source": [
        "flat_predictions = [item for sublist in predictions for item in sublist]\n",
        "flat_predictions = np.argmax(flat_predictions, axis=1).flatten()\n",
        "flat_true_labels = [item for sublist in true_labels for item in sublist]"
      ],
      "execution_count": null,
      "outputs": []
    },
    {
      "cell_type": "code",
      "metadata": {
        "colab": {
          "base_uri": "https://localhost:8080/"
        },
        "id": "NLwW68DHVmQX",
        "outputId": "2c4308ac-a653-4851-cf63-48a099cf2dab"
      },
      "source": [
        "from sklearn.metrics import accuracy_score\n",
        "print(\"Accuracy of BERT is:\",accuracy_score(flat_true_labels, flat_predictions))"
      ],
      "execution_count": null,
      "outputs": [
        {
          "output_type": "stream",
          "text": [
            "Accuracy of BERT is: 0.592\n"
          ],
          "name": "stdout"
        }
      ]
    },
    {
      "cell_type": "code",
      "metadata": {
        "colab": {
          "base_uri": "https://localhost:8080/"
        },
        "id": "PhMkhDckrXGW",
        "outputId": "42e88503-2f8d-416d-c603-3032986424b9"
      },
      "source": [
        "print(batch_size)"
      ],
      "execution_count": null,
      "outputs": [
        {
          "output_type": "stream",
          "text": [
            "64\n"
          ],
          "name": "stdout"
        }
      ]
    },
    {
      "cell_type": "code",
      "metadata": {
        "colab": {
          "base_uri": "https://localhost:8080/"
        },
        "id": "8OWQK4lprF_R",
        "outputId": "c7aed2b7-2c69-40ee-a279-179117a12dea"
      },
      "source": [
        "print(epochs)"
      ],
      "execution_count": null,
      "outputs": [
        {
          "output_type": "stream",
          "text": [
            "2\n"
          ],
          "name": "stdout"
        }
      ]
    },
    {
      "cell_type": "code",
      "metadata": {
        "colab": {
          "base_uri": "https://localhost:8080/"
        },
        "id": "KeYT_CoUVqQz",
        "outputId": "d2527e37-eab9-438d-897a-ed3bc2b1a629"
      },
      "source": [
        "from sklearn.metrics import classification_report\n",
        "print(classification_report(flat_true_labels, flat_predictions))"
      ],
      "execution_count": null,
      "outputs": [
        {
          "output_type": "stream",
          "text": [
            "              precision    recall  f1-score   support\n",
            "\n",
            "           0       0.58      0.66      0.62       250\n",
            "           1       0.61      0.52      0.56       250\n",
            "\n",
            "    accuracy                           0.59       500\n",
            "   macro avg       0.59      0.59      0.59       500\n",
            "weighted avg       0.59      0.59      0.59       500\n",
            "\n"
          ],
          "name": "stdout"
        }
      ]
    }
  ]
}